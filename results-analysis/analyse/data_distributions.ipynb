{
 "cells": [
  {
   "cell_type": "code",
   "execution_count": 1,
   "metadata": {},
   "outputs": [
    {
     "data": {
      "text/html": [
       "<div>\n",
       "<style scoped>\n",
       "    .dataframe tbody tr th:only-of-type {\n",
       "        vertical-align: middle;\n",
       "    }\n",
       "\n",
       "    .dataframe tbody tr th {\n",
       "        vertical-align: top;\n",
       "    }\n",
       "\n",
       "    .dataframe thead th {\n",
       "        text-align: right;\n",
       "    }\n",
       "</style>\n",
       "<table border=\"1\" class=\"dataframe\">\n",
       "  <thead>\n",
       "    <tr style=\"text-align: right;\">\n",
       "      <th></th>\n",
       "      <th>participant</th>\n",
       "      <th>anomalyID</th>\n",
       "      <th>sequenceID</th>\n",
       "      <th>id</th>\n",
       "      <th>eventCat</th>\n",
       "      <th>is_detected</th>\n",
       "      <th>reactionTime_seconds</th>\n",
       "      <th>automatic_detection</th>\n",
       "      <th>version</th>\n",
       "      <th>run_order</th>\n",
       "      <th>...</th>\n",
       "      <th>preference_v1</th>\n",
       "      <th>preference_v2</th>\n",
       "      <th>preference_v3</th>\n",
       "      <th>preference_v4</th>\n",
       "      <th>recall</th>\n",
       "      <th>precision</th>\n",
       "      <th>F1</th>\n",
       "      <th>TP</th>\n",
       "      <th>FN</th>\n",
       "      <th>FP</th>\n",
       "    </tr>\n",
       "  </thead>\n",
       "  <tbody>\n",
       "    <tr>\n",
       "      <th>0</th>\n",
       "      <td>18</td>\n",
       "      <td>0</td>\n",
       "      <td>0.0</td>\n",
       "      <td>82.0</td>\n",
       "      <td>10</td>\n",
       "      <td>False</td>\n",
       "      <td>NaN</td>\n",
       "      <td>False</td>\n",
       "      <td>window+ad</td>\n",
       "      <td>1</td>\n",
       "      <td>...</td>\n",
       "      <td>4</td>\n",
       "      <td>1</td>\n",
       "      <td>3</td>\n",
       "      <td>2</td>\n",
       "      <td>0.69</td>\n",
       "      <td>0.93</td>\n",
       "      <td>0.79</td>\n",
       "      <td>25</td>\n",
       "      <td>11</td>\n",
       "      <td>2</td>\n",
       "    </tr>\n",
       "    <tr>\n",
       "      <th>1</th>\n",
       "      <td>18</td>\n",
       "      <td>1</td>\n",
       "      <td>0.0</td>\n",
       "      <td>143.0</td>\n",
       "      <td>10</td>\n",
       "      <td>True</td>\n",
       "      <td>4.318</td>\n",
       "      <td>False</td>\n",
       "      <td>window+ad</td>\n",
       "      <td>1</td>\n",
       "      <td>...</td>\n",
       "      <td>4</td>\n",
       "      <td>1</td>\n",
       "      <td>3</td>\n",
       "      <td>2</td>\n",
       "      <td>0.69</td>\n",
       "      <td>0.93</td>\n",
       "      <td>0.79</td>\n",
       "      <td>25</td>\n",
       "      <td>11</td>\n",
       "      <td>2</td>\n",
       "    </tr>\n",
       "    <tr>\n",
       "      <th>2</th>\n",
       "      <td>18</td>\n",
       "      <td>2</td>\n",
       "      <td>0.0</td>\n",
       "      <td>179.0</td>\n",
       "      <td>10</td>\n",
       "      <td>True</td>\n",
       "      <td>19.697</td>\n",
       "      <td>False</td>\n",
       "      <td>window+ad</td>\n",
       "      <td>1</td>\n",
       "      <td>...</td>\n",
       "      <td>4</td>\n",
       "      <td>1</td>\n",
       "      <td>3</td>\n",
       "      <td>2</td>\n",
       "      <td>0.69</td>\n",
       "      <td>0.93</td>\n",
       "      <td>0.79</td>\n",
       "      <td>25</td>\n",
       "      <td>11</td>\n",
       "      <td>2</td>\n",
       "    </tr>\n",
       "    <tr>\n",
       "      <th>3</th>\n",
       "      <td>18</td>\n",
       "      <td>3</td>\n",
       "      <td>0.0</td>\n",
       "      <td>212.0</td>\n",
       "      <td>10</td>\n",
       "      <td>True</td>\n",
       "      <td>22.615</td>\n",
       "      <td>False</td>\n",
       "      <td>window+ad</td>\n",
       "      <td>1</td>\n",
       "      <td>...</td>\n",
       "      <td>4</td>\n",
       "      <td>1</td>\n",
       "      <td>3</td>\n",
       "      <td>2</td>\n",
       "      <td>0.69</td>\n",
       "      <td>0.93</td>\n",
       "      <td>0.79</td>\n",
       "      <td>25</td>\n",
       "      <td>11</td>\n",
       "      <td>2</td>\n",
       "    </tr>\n",
       "    <tr>\n",
       "      <th>4</th>\n",
       "      <td>18</td>\n",
       "      <td>4</td>\n",
       "      <td>1.0</td>\n",
       "      <td>63.0</td>\n",
       "      <td>10</td>\n",
       "      <td>True</td>\n",
       "      <td>19.983</td>\n",
       "      <td>False</td>\n",
       "      <td>window+ad</td>\n",
       "      <td>1</td>\n",
       "      <td>...</td>\n",
       "      <td>4</td>\n",
       "      <td>1</td>\n",
       "      <td>3</td>\n",
       "      <td>2</td>\n",
       "      <td>0.69</td>\n",
       "      <td>0.93</td>\n",
       "      <td>0.79</td>\n",
       "      <td>25</td>\n",
       "      <td>11</td>\n",
       "      <td>2</td>\n",
       "    </tr>\n",
       "    <tr>\n",
       "      <th>...</th>\n",
       "      <td>...</td>\n",
       "      <td>...</td>\n",
       "      <td>...</td>\n",
       "      <td>...</td>\n",
       "      <td>...</td>\n",
       "      <td>...</td>\n",
       "      <td>...</td>\n",
       "      <td>...</td>\n",
       "      <td>...</td>\n",
       "      <td>...</td>\n",
       "      <td>...</td>\n",
       "      <td>...</td>\n",
       "      <td>...</td>\n",
       "      <td>...</td>\n",
       "      <td>...</td>\n",
       "      <td>...</td>\n",
       "      <td>...</td>\n",
       "      <td>...</td>\n",
       "      <td>...</td>\n",
       "      <td>...</td>\n",
       "      <td>...</td>\n",
       "    </tr>\n",
       "    <tr>\n",
       "      <th>7339</th>\n",
       "      <td>9</td>\n",
       "      <td>31</td>\n",
       "      <td>9.0</td>\n",
       "      <td>202.0</td>\n",
       "      <td>10</td>\n",
       "      <td>False</td>\n",
       "      <td>NaN</td>\n",
       "      <td>False</td>\n",
       "      <td>history+ad</td>\n",
       "      <td>4</td>\n",
       "      <td>...</td>\n",
       "      <td>1</td>\n",
       "      <td>2</td>\n",
       "      <td>3</td>\n",
       "      <td>4</td>\n",
       "      <td>0.67</td>\n",
       "      <td>0.75</td>\n",
       "      <td>0.71</td>\n",
       "      <td>24</td>\n",
       "      <td>12</td>\n",
       "      <td>8</td>\n",
       "    </tr>\n",
       "    <tr>\n",
       "      <th>7340</th>\n",
       "      <td>9</td>\n",
       "      <td>32</td>\n",
       "      <td>11.0</td>\n",
       "      <td>69.0</td>\n",
       "      <td>10</td>\n",
       "      <td>True</td>\n",
       "      <td>26.727</td>\n",
       "      <td>False</td>\n",
       "      <td>history+ad</td>\n",
       "      <td>4</td>\n",
       "      <td>...</td>\n",
       "      <td>1</td>\n",
       "      <td>2</td>\n",
       "      <td>3</td>\n",
       "      <td>4</td>\n",
       "      <td>0.67</td>\n",
       "      <td>0.75</td>\n",
       "      <td>0.71</td>\n",
       "      <td>24</td>\n",
       "      <td>12</td>\n",
       "      <td>8</td>\n",
       "    </tr>\n",
       "    <tr>\n",
       "      <th>7341</th>\n",
       "      <td>9</td>\n",
       "      <td>33</td>\n",
       "      <td>11.0</td>\n",
       "      <td>118.0</td>\n",
       "      <td>10</td>\n",
       "      <td>True</td>\n",
       "      <td>18.463</td>\n",
       "      <td>True</td>\n",
       "      <td>history+ad</td>\n",
       "      <td>4</td>\n",
       "      <td>...</td>\n",
       "      <td>1</td>\n",
       "      <td>2</td>\n",
       "      <td>3</td>\n",
       "      <td>4</td>\n",
       "      <td>0.67</td>\n",
       "      <td>0.75</td>\n",
       "      <td>0.71</td>\n",
       "      <td>24</td>\n",
       "      <td>12</td>\n",
       "      <td>8</td>\n",
       "    </tr>\n",
       "    <tr>\n",
       "      <th>7342</th>\n",
       "      <td>9</td>\n",
       "      <td>34</td>\n",
       "      <td>11.0</td>\n",
       "      <td>173.0</td>\n",
       "      <td>9</td>\n",
       "      <td>True</td>\n",
       "      <td>11.100</td>\n",
       "      <td>True</td>\n",
       "      <td>history+ad</td>\n",
       "      <td>4</td>\n",
       "      <td>...</td>\n",
       "      <td>1</td>\n",
       "      <td>2</td>\n",
       "      <td>3</td>\n",
       "      <td>4</td>\n",
       "      <td>0.67</td>\n",
       "      <td>0.75</td>\n",
       "      <td>0.71</td>\n",
       "      <td>24</td>\n",
       "      <td>12</td>\n",
       "      <td>8</td>\n",
       "    </tr>\n",
       "    <tr>\n",
       "      <th>7343</th>\n",
       "      <td>9</td>\n",
       "      <td>35</td>\n",
       "      <td>11.0</td>\n",
       "      <td>219.0</td>\n",
       "      <td>10</td>\n",
       "      <td>True</td>\n",
       "      <td>22.010</td>\n",
       "      <td>True</td>\n",
       "      <td>history+ad</td>\n",
       "      <td>4</td>\n",
       "      <td>...</td>\n",
       "      <td>1</td>\n",
       "      <td>2</td>\n",
       "      <td>3</td>\n",
       "      <td>4</td>\n",
       "      <td>0.67</td>\n",
       "      <td>0.75</td>\n",
       "      <td>0.71</td>\n",
       "      <td>24</td>\n",
       "      <td>12</td>\n",
       "      <td>8</td>\n",
       "    </tr>\n",
       "  </tbody>\n",
       "</table>\n",
       "<p>7344 rows × 33 columns</p>\n",
       "</div>"
      ],
      "text/plain": [
       "      participant  anomalyID  sequenceID     id  eventCat  is_detected  \\\n",
       "0              18          0         0.0   82.0        10        False   \n",
       "1              18          1         0.0  143.0        10         True   \n",
       "2              18          2         0.0  179.0        10         True   \n",
       "3              18          3         0.0  212.0        10         True   \n",
       "4              18          4         1.0   63.0        10         True   \n",
       "...           ...        ...         ...    ...       ...          ...   \n",
       "7339            9         31         9.0  202.0        10        False   \n",
       "7340            9         32        11.0   69.0        10         True   \n",
       "7341            9         33        11.0  118.0        10         True   \n",
       "7342            9         34        11.0  173.0         9         True   \n",
       "7343            9         35        11.0  219.0        10         True   \n",
       "\n",
       "      reactionTime_seconds  automatic_detection     version  run_order  ...  \\\n",
       "0                      NaN                False   window+ad          1  ...   \n",
       "1                    4.318                False   window+ad          1  ...   \n",
       "2                   19.697                False   window+ad          1  ...   \n",
       "3                   22.615                False   window+ad          1  ...   \n",
       "4                   19.983                False   window+ad          1  ...   \n",
       "...                    ...                  ...         ...        ...  ...   \n",
       "7339                   NaN                False  history+ad          4  ...   \n",
       "7340                26.727                False  history+ad          4  ...   \n",
       "7341                18.463                 True  history+ad          4  ...   \n",
       "7342                11.100                 True  history+ad          4  ...   \n",
       "7343                22.010                 True  history+ad          4  ...   \n",
       "\n",
       "     preference_v1 preference_v2 preference_v3 preference_v4 recall precision  \\\n",
       "0                4             1             3             2   0.69      0.93   \n",
       "1                4             1             3             2   0.69      0.93   \n",
       "2                4             1             3             2   0.69      0.93   \n",
       "3                4             1             3             2   0.69      0.93   \n",
       "4                4             1             3             2   0.69      0.93   \n",
       "...            ...           ...           ...           ...    ...       ...   \n",
       "7339             1             2             3             4   0.67      0.75   \n",
       "7340             1             2             3             4   0.67      0.75   \n",
       "7341             1             2             3             4   0.67      0.75   \n",
       "7342             1             2             3             4   0.67      0.75   \n",
       "7343             1             2             3             4   0.67      0.75   \n",
       "\n",
       "        F1  TP  FN  FP  \n",
       "0     0.79  25  11   2  \n",
       "1     0.79  25  11   2  \n",
       "2     0.79  25  11   2  \n",
       "3     0.79  25  11   2  \n",
       "4     0.79  25  11   2  \n",
       "...    ...  ..  ..  ..  \n",
       "7339  0.71  24  12   8  \n",
       "7340  0.71  24  12   8  \n",
       "7341  0.71  24  12   8  \n",
       "7342  0.71  24  12   8  \n",
       "7343  0.71  24  12   8  \n",
       "\n",
       "[7344 rows x 33 columns]"
      ]
     },
     "execution_count": 1,
     "metadata": {},
     "output_type": "execute_result"
    }
   ],
   "source": [
    "import pandas as pd\n",
    "import numpy as np\n",
    "import matplotlib.pyplot as plt\n",
    "import seaborn as sns\n",
    "\n",
    "#read the csv file 'complete_df.csv' into a pandas dataframe\n",
    "df = pd.read_csv('complete_df.csv')\n",
    "df"
   ]
  },
  {
   "cell_type": "code",
   "execution_count": 2,
   "metadata": {},
   "outputs": [
    {
     "name": "stderr",
     "output_type": "stream",
     "text": [
      "C:\\Users\\s152296\\AppData\\Local\\Temp\\ipykernel_14172\\976519403.py:5: SettingWithCopyWarning: \n",
      "A value is trying to be set on a copy of a slice from a DataFrame.\n",
      "Try using .loc[row_indexer,col_indexer] = value instead\n",
      "\n",
      "See the caveats in the documentation: https://pandas.pydata.org/pandas-docs/stable/user_guide/indexing.html#returning-a-view-versus-a-copy\n",
      "  df['education'] = df['education'].replace('University master', 'Master')\n",
      "C:\\Users\\s152296\\AppData\\Local\\Temp\\ipykernel_14172\\976519403.py:6: SettingWithCopyWarning: \n",
      "A value is trying to be set on a copy of a slice from a DataFrame.\n",
      "Try using .loc[row_indexer,col_indexer] = value instead\n",
      "\n",
      "See the caveats in the documentation: https://pandas.pydata.org/pandas-docs/stable/user_guide/indexing.html#returning-a-view-versus-a-copy\n",
      "  df['education'] = df['education'].replace('Applied university (HBO in Dutch)/ University bachelor', 'Bachelor')\n",
      "C:\\Users\\s152296\\AppData\\Local\\Temp\\ipykernel_14172\\976519403.py:7: SettingWithCopyWarning: \n",
      "A value is trying to be set on a copy of a slice from a DataFrame.\n",
      "Try using .loc[row_indexer,col_indexer] = value instead\n",
      "\n",
      "See the caveats in the documentation: https://pandas.pydata.org/pandas-docs/stable/user_guide/indexing.html#returning-a-view-versus-a-copy\n",
      "  df['education'] = df['education'].replace('High school', 'High school')\n",
      "C:\\Users\\s152296\\AppData\\Local\\Temp\\ipykernel_14172\\976519403.py:8: SettingWithCopyWarning: \n",
      "A value is trying to be set on a copy of a slice from a DataFrame.\n",
      "Try using .loc[row_indexer,col_indexer] = value instead\n",
      "\n",
      "See the caveats in the documentation: https://pandas.pydata.org/pandas-docs/stable/user_guide/indexing.html#returning-a-view-versus-a-copy\n",
      "  df['education'] = df['education'].replace('Doctorate or equivalent', 'Doctorate')\n"
     ]
    }
   ],
   "source": [
    "#keep only one row per participant\n",
    "df = df.drop_duplicates(subset='participant', keep='first')\n",
    "\n",
    "#rename the value University master to Master\n",
    "df['education'] = df['education'].replace('University master', 'Master')\n",
    "df['education'] = df['education'].replace('Applied university (HBO in Dutch)/ University bachelor', 'Bachelor')\n",
    "df['education'] = df['education'].replace('High school', 'High school')\n",
    "df['education'] = df['education'].replace('Doctorate or equivalent', 'Doctorate')"
   ]
  },
  {
   "cell_type": "code",
   "execution_count": 3,
   "metadata": {},
   "outputs": [
    {
     "data": {
      "image/png": "[encoded data removed]",
      "text/plain": [
       "<Figure size 576x576 with 1 Axes>"
      ]
     },
     "metadata": {},
     "output_type": "display_data"
    }
   ],
   "source": [
    "\n",
    "\n",
    "import matplotlib.pyplot as plt\n",
    "import seaborn as sns\n",
    "\n",
    "# Assuming df is already defined\n",
    "age = df['age'].value_counts()\n",
    "\n",
    "# Set the seaborn style\n",
    "sns.set()\n",
    "\n",
    "# Custom function to format percentages\n",
    "def autopct_format(pct):\n",
    "    return f'{pct:.1f}%'\n",
    "\n",
    "# Create the pie plot using matplotlib\n",
    "plt.figure(figsize=(8, 8))\n",
    "wedges, texts, autotexts = plt.pie(\n",
    "    age, \n",
    "    labels=age.index, \n",
    "    autopct=autopct_format, \n",
    "    colors=sns.color_palette(\"Set2\"), \n",
    "    textprops={'fontsize': 20},  # Adjust the label text size\n",
    "    wedgeprops={'linewidth': 3}  # Increase the wedge border size\n",
    ")\n",
    "plt.title('Age', fontsize=30)\n",
    "\n",
    "# Adjust the position of the percentage text slightly inward\n",
    "for autotext in autotexts:\n",
    "    autotext.set_position((autotext.get_position()[0]*0.8, autotext.get_position()[1]*0.9))\n",
    "\n",
    "# Make the circle smaller to create a donut plot\n",
    "plt.gcf().gca().add_artist(plt.Circle((0, 0), 0.70, fc='white'))\n",
    "\n",
    "# Save the plot before displaying it\n",
    "#plt.savefig('age.png')\n",
    "\n",
    "# Display the plot\n",
    "plt.show()\n"
   ]
  },
  {
   "cell_type": "code",
   "execution_count": 4,
   "metadata": {},
   "outputs": [
    {
     "data": {
      "image/png": "[encoded data removed]",
      "text/plain": [
       "<Figure size 576x576 with 1 Axes>"
      ]
     },
     "metadata": {},
     "output_type": "display_data"
    }
   ],
   "source": [
    "import matplotlib.pyplot as plt\n",
    "import seaborn as sns\n",
    "\n",
    "# Assuming df is already defined\n",
    "gender = df['gender'].value_counts()\n",
    "\n",
    "# Set the seaborn style\n",
    "sns.set()\n",
    "\n",
    "# Custom function to format percentages\n",
    "def autopct_format(pct):\n",
    "    return f'{pct:.1f}%'\n",
    "\n",
    "# Create the pie plot using matplotlib\n",
    "plt.figure(figsize=(8, 8))\n",
    "wedges, texts, autotexts = plt.pie(\n",
    "    gender, \n",
    "    labels=gender.index, \n",
    "    autopct=autopct_format, \n",
    "    colors=sns.color_palette(\"Set2\"), \n",
    "    textprops={'fontsize': 20},  # Adjust the label text size\n",
    "    wedgeprops={'linewidth': 3},  # Increase the wedge border size\n",
    "    startangle=65  # Rotate the pie chart by 65 degrees\n",
    ")\n",
    "\n",
    "plt.title('Gender', fontsize=30)\n",
    "\n",
    "# Adjust the position of the percentage text slightly inward\n",
    "for autotext in autotexts:\n",
    "    autotext.set_position((autotext.get_position()[0]*0.8, autotext.get_position()[1]*0.9))\n",
    "\n",
    "# Make the circle smaller to create a donut plot\n",
    "plt.gcf().gca().add_artist(plt.Circle((0, 0), 0.70, fc='white'))\n",
    "\n",
    "# Save the plot before displaying it\n",
    "#plt.savefig('gender.png')\n",
    "\n",
    "# Display the plot\n",
    "plt.show()\n",
    "\n",
    "\n"
   ]
  },
  {
   "cell_type": "code",
   "execution_count": 5,
   "metadata": {},
   "outputs": [
    {
     "data": {
      "image/png": "[encoded data removed]",
      "text/plain": [
       "<Figure size 576x576 with 1 Axes>"
      ]
     },
     "metadata": {},
     "output_type": "display_data"
    }
   ],
   "source": [
    "import matplotlib.pyplot as plt\n",
    "import seaborn as sns\n",
    "\n",
    "# Assuming df is already defined\n",
    "education = df['education'].value_counts()\n",
    "\n",
    "# Set the seaborn style\n",
    "sns.set()\n",
    "\n",
    "# Custom function to format percentages\n",
    "def autopct_format(pct):\n",
    "    return f'{pct:.1f}%'\n",
    "\n",
    "# Create the pie plot using matplotlib\n",
    "plt.figure(figsize=(8, 8))\n",
    "wedges, texts, autotexts = plt.pie(\n",
    "    education, \n",
    "    labels=education.index, \n",
    "    autopct=autopct_format, \n",
    "    colors=sns.color_palette(\"Set2\"), \n",
    "    textprops={'fontsize': 20},  # Adjust the label text size\n",
    "    wedgeprops={'linewidth': 3}  # Increase the wedge border size\n",
    ")\n",
    "\n",
    "plt.title('Education', fontsize=30)\n",
    "\n",
    "# Adjust the position of the percentage text slightly inward\n",
    "for autotext in autotexts:\n",
    "    autotext.set_position((autotext.get_position()[0]*0.8, autotext.get_position()[1]*0.9))\n",
    "\n",
    "# Make the circle smaller to create a donut plot\n",
    "plt.gcf().gca().add_artist(plt.Circle((0, 0), 0.70, fc='white'))\n",
    "\n",
    "# Save the plot before displaying it\n",
    "#plt.savefig('education.png')\n",
    "\n",
    "# Display the plot\n",
    "plt.show()\n",
    "\n"
   ]
  },
  {
   "cell_type": "code",
   "execution_count": 6,
   "metadata": {},
   "outputs": [
    {
     "data": {
      "image/png": "[encoded data removed]",
      "text/plain": [
       "<Figure size 576x576 with 1 Axes>"
      ]
     },
     "metadata": {},
     "output_type": "display_data"
    }
   ],
   "source": [
    "import matplotlib.pyplot as plt\n",
    "import seaborn as sns\n",
    "\n",
    "# Assuming df is already defined\n",
    "experience = df['experience'].value_counts()\n",
    "\n",
    "# Set the seaborn style\n",
    "sns.set()\n",
    "\n",
    "# Custom function to format percentages\n",
    "def autopct_format(pct):\n",
    "    return f'{pct:.1f}%'\n",
    "\n",
    "# Create the pie plot using matplotlib\n",
    "plt.figure(figsize=(8, 8))\n",
    "wedges, texts, autotexts = plt.pie(\n",
    "    experience, \n",
    "    labels=experience.index, \n",
    "    autopct=autopct_format, \n",
    "    colors=sns.color_palette(\"Set2\"), \n",
    "    textprops={'fontsize': 20},  # Adjust the label text size\n",
    "    wedgeprops={'linewidth': 3}  # Increase the wedge border size\n",
    ")\n",
    "\n",
    "plt.title('Experience', fontsize=30)\n",
    "\n",
    "# Adjust the position of the percentage text slightly inward\n",
    "for autotext in autotexts:\n",
    "    autotext.set_position((autotext.get_position()[0]*0.8, autotext.get_position()[1]*0.9))\n",
    "\n",
    "# Make the circle smaller to create a donut plot\n",
    "plt.gcf().gca().add_artist(plt.Circle((0, 0), 0.70, fc='white'))\n",
    "\n",
    "# Save the plot before displaying it\n",
    "#plt.savefig('experience.png')\n",
    "\n",
    "# Display the plot\n",
    "plt.show()\n",
    "\n"
   ]
  },
  {
   "cell_type": "code",
   "execution_count": 7,
   "metadata": {},
   "outputs": [
    {
     "data": {
      "image/png": "[encoded data removed]",
      "text/plain": [
       "<Figure size 576x576 with 1 Axes>"
      ]
     },
     "metadata": {},
     "output_type": "display_data"
    }
   ],
   "source": [
    "import matplotlib.pyplot as plt\n",
    "import seaborn as sns\n",
    "\n",
    "# Assuming df is already defined\n",
    "age = df['age'].value_counts()\n",
    "\n",
    "# Set the seaborn style\n",
    "sns.set()\n",
    "\n",
    "# Custom function to format percentages\n",
    "def autopct_format(pct):\n",
    "    return f'{pct:.1f}%'\n",
    "\n",
    "# Create the pie plot using matplotlib\n",
    "plt.figure(figsize=(8, 8))\n",
    "wedges, texts, autotexts = plt.pie(\n",
    "    age, \n",
    "    labels=age.index, \n",
    "    autopct=autopct_format, \n",
    "    colors=sns.color_palette(\"Set2\"), \n",
    "    textprops={'fontsize': 20},  # Adjust the label text size\n",
    "    wedgeprops={'linewidth': 3}  # Increase the wedge border size\n",
    ")\n",
    "plt.title('Age', fontsize=30)\n",
    "\n",
    "# Adjust the position of the percentage text slightly inward\n",
    "for autotext in autotexts:\n",
    "    autotext.set_position((autotext.get_position()[0]*0.8, autotext.get_position()[1]*0.9))\n",
    "\n",
    "# Make the circle smaller to create a donut plot\n",
    "plt.gcf().gca().add_artist(plt.Circle((0, 0), 0.70, fc='white'))\n",
    "\n",
    "# Save the plot before displaying it\n",
    "#plt.savefig('age.png')\n",
    "\n",
    "# Display the plot\n",
    "plt.show()"
   ]
  },
  {
   "cell_type": "code",
   "execution_count": 8,
   "metadata": {},
   "outputs": [],
   "source": [
    "import json\n",
    "import pandas as pd\n",
    "import seaborn as sns\n",
    "import matplotlib.pyplot as plt\n",
    "import numpy as np\n",
    "\n",
    "file_path = 'merged_participant_data.json'\n",
    "\n",
    "with open(file_path, 'r') as file:\n",
    "    data = json.load(file)\n",
    "\n",
    "data = data['participants']\n",
    "\n",
    "\n",
    "# Now you can work with the un-JSONed data\n",
    "# For example, you can access specific values using keys\n",
    "# print(data)"
   ]
  },
  {
   "cell_type": "code",
   "execution_count": 9,
   "metadata": {},
   "outputs": [
    {
     "data": {
      "image/png": "[encoded data removed]",
      "text/plain": [
       "<Figure size 576x576 with 1 Axes>"
      ]
     },
     "metadata": {},
     "output_type": "display_data"
    }
   ],
   "source": [
    "# Assuming data is already defined\n",
    "version_sequence = []\n",
    "for participant in data:\n",
    "    version_sequence.append(participant['metadata']['version_sequence'])\n",
    "\n",
    "# Convert to a pandas Series and get value counts\n",
    "version_sequence = pd.Series(version_sequence).value_counts()\n",
    "\n",
    "# Set the seaborn style\n",
    "sns.set()\n",
    "\n",
    "# Create the pie plot using matplotlib\n",
    "plt.figure(figsize=(8, 8))\n",
    "plt.pie(\n",
    "    version_sequence, \n",
    "    colors=sns.color_palette(\"Set2\"), \n",
    "    wedgeprops={'linewidth': 3}  # Increase the wedge border size\n",
    ")\n",
    "\n",
    "plt.title('Visualization order', fontsize=30)\n",
    "\n",
    "# Make the circle smaller to create a donut plot\n",
    "plt.gcf().gca().add_artist(plt.Circle((0, 0), 0.70, fc='white'))\n",
    "\n",
    "#export to png file\n",
    "#plt.savefig('visualization_order.png')\n",
    "\n",
    "# Display the plot\n",
    "plt.show()\n",
    "\n",
    "\n"
   ]
  },
  {
   "cell_type": "code",
   "execution_count": 14,
   "metadata": {},
   "outputs": [
    {
     "data": {
      "image/png": "[encoded data removed]",
      "text/plain": [
       "<Figure size 576x576 with 1 Axes>"
      ]
     },
     "metadata": {},
     "output_type": "display_data"
    }
   ],
   "source": [
    "import pandas as pd\n",
    "import matplotlib.pyplot as plt\n",
    "import seaborn as sns\n",
    "\n",
    "# Assuming data is already defined\n",
    "version_sequence = []\n",
    "for participant in data:\n",
    "    version_sequence.append(participant['metadata']['version_sequence'])\n",
    "\n",
    "# Convert to a pandas Series and get value counts\n",
    "version_sequence = pd.Series(version_sequence).value_counts()\n",
    "\n",
    "# Set the seaborn style\n",
    "sns.set()\n",
    "\n",
    "# Define a custom color palette based on unique counts\n",
    "unique_counts = version_sequence.unique()\n",
    "color_palette = sns.color_palette(\"Set2\", len(unique_counts))\n",
    "color_mapping = {count: color_palette[i] for i, count in enumerate(unique_counts)}\n",
    "\n",
    "# Map colors to the version_sequence counts\n",
    "colors = version_sequence.map(color_mapping)\n",
    "\n",
    "# Create the pie plot using matplotlib\n",
    "plt.figure(figsize=(8, 8))\n",
    "plt.pie(\n",
    "    version_sequence, \n",
    "    colors=colors, \n",
    "    wedgeprops={'linewidth': 3}  # Increase the wedge border size\n",
    ")\n",
    "\n",
    "plt.title('Visualization order', fontsize=30)\n",
    "\n",
    "# Make the circle smaller to create a donut plot\n",
    "plt.gcf().gca().add_artist(plt.Circle((0, 0), 0.70, fc='white'))\n",
    "\n",
    "# Export to PNG file if needed\n",
    "plt.savefig('visualization_order.png')\n",
    "\n",
    "# Display the plot\n",
    "plt.show()\n"
   ]
  },
  {
   "cell_type": "code",
   "execution_count": 10,
   "metadata": {},
   "outputs": [
    {
     "data": {
      "image/png": "[encoded data removed]",
      "text/plain": [
       "<Figure size 576x576 with 1 Axes>"
      ]
     },
     "metadata": {},
     "output_type": "display_data"
    }
   ],
   "source": [
    "# Assuming data is already defined\n",
    "dataset_sequence = []\n",
    "for participant in data:\n",
    "    dataset_sequence.append(participant['metadata']['dataset_sequence'])\n",
    "\n",
    "# Convert to a pandas Series and get value counts\n",
    "dataset_sequence = pd.Series(dataset_sequence).value_counts()\n",
    "\n",
    "# Set the seaborn style\n",
    "sns.set()\n",
    "\n",
    "# Create the pie plot using matplotlib\n",
    "plt.figure(figsize=(8, 8))\n",
    "plt.pie(\n",
    "    dataset_sequence, \n",
    "    colors=sns.color_palette(\"Set2\"), \n",
    "    wedgeprops={'linewidth': 3}  # Increase the wedge border size\n",
    ")\n",
    "\n",
    "plt.title('Dataset order', fontsize=30)\n",
    "\n",
    "# Make the circle smaller to create a donut plot\n",
    "plt.gcf().gca().add_artist(plt.Circle((0, 0), 0.70, fc='white'))\n",
    "\n",
    "#export to png file\n",
    "#plt.savefig('dataset_order.png')\n",
    "\n",
    "# Display the plot\n",
    "plt.show()\n",
    "\n",
    "\n"
   ]
  },
  {
   "cell_type": "code",
   "execution_count": 24,
   "metadata": {},
   "outputs": [
    {
     "data": {
      "image/png": "[encoded data removed]",
      "text/plain": [
       "<Figure size 576x576 with 1 Axes>"
      ]
     },
     "metadata": {},
     "output_type": "display_data"
    }
   ],
   "source": [
    "import pandas as pd\n",
    "import matplotlib.pyplot as plt\n",
    "import seaborn as sns\n",
    "\n",
    "# Assuming data is already defined\n",
    "dataset_sequence = []\n",
    "for participant in data:\n",
    "    dataset_sequence.append(participant['metadata']['dataset_sequence'])\n",
    "\n",
    "# Convert to a pandas Series and get value counts\n",
    "dataset_sequence = pd.Series(dataset_sequence).value_counts()\n",
    "\n",
    "# Set the seaborn style\n",
    "sns.set()\n",
    "\n",
    "# Define a custom color palette based on unique counts\n",
    "unique_counts = dataset_sequence.unique()\n",
    "color_palette = sns.color_palette(\"Set2\", len(unique_counts))\n",
    "color_mapping = {count: color_palette[i] for i, count in enumerate(unique_counts)}\n",
    "\n",
    "# Map colors to the dataset_sequence counts\n",
    "colors = dataset_sequence.map(color_mapping)\n",
    "\n",
    "# Create the pie plot using matplotlib\n",
    "plt.figure(figsize=(8, 8))\n",
    "plt.pie(\n",
    "    dataset_sequence, \n",
    "    colors=colors, \n",
    "    wedgeprops={'linewidth': 3}  # Increase the wedge border size\n",
    ")\n",
    "\n",
    "plt.title('Dataset order', fontsize=30)\n",
    "\n",
    "# Make the circle smaller to create a donut plot\n",
    "plt.gcf().gca().add_artist(plt.Circle((0, 0), 0.70, fc='white'))\n",
    "\n",
    "# Export to PNG file if needed\n",
    "#plt.savefig('dataset_order.png')\n",
    "\n",
    "# Display the plot\n",
    "plt.show()\n"
   ]
  },
  {
   "cell_type": "code",
   "execution_count": 25,
   "metadata": {},
   "outputs": [
    {
     "data": {
      "text/plain": [
       "[dataset3, dataset4, dataset2, dataset1]    3\n",
       "[dataset2, dataset1, dataset4, dataset3]    3\n",
       "[dataset3, dataset4, dataset1, dataset2]    3\n",
       "[dataset3, dataset1, dataset4, dataset2]    3\n",
       "[dataset2, dataset4, dataset1, dataset3]    3\n",
       "[dataset2, dataset3, dataset4, dataset1]    3\n",
       "[dataset1, dataset2, dataset3, dataset4]    3\n",
       "[dataset4, dataset1, dataset3, dataset2]    3\n",
       "[dataset3, dataset2, dataset1, dataset4]    3\n",
       "[dataset2, dataset4, dataset3, dataset1]    3\n",
       "[dataset2, dataset3, dataset1, dataset4]    2\n",
       "[dataset3, dataset1, dataset2, dataset4]    2\n",
       "[dataset1, dataset3, dataset2, dataset4]    2\n",
       "[dataset1, dataset2, dataset4, dataset3]    2\n",
       "[dataset1, dataset3, dataset4, dataset2]    2\n",
       "[dataset4, dataset1, dataset2, dataset3]    2\n",
       "[dataset2, dataset1, dataset3, dataset4]    2\n",
       "[dataset1, dataset4, dataset2, dataset3]    2\n",
       "[dataset3, dataset2, dataset4, dataset1]    2\n",
       "[dataset1, dataset4, dataset3, dataset2]    1\n",
       "[dataset4, dataset3, dataset1, dataset2]    1\n",
       "[dataset4, dataset2, dataset3, dataset1]    1\n",
       "[dataset4, dataset2, dataset1, dataset3]    1\n",
       "[dataset4, dataset3, dataset2, dataset1]    1\n",
       "dtype: int64"
      ]
     },
     "execution_count": 25,
     "metadata": {},
     "output_type": "execute_result"
    }
   ],
   "source": [
    "dataset_sequence"
   ]
  },
  {
   "cell_type": "code",
   "execution_count": 50,
   "metadata": {},
   "outputs": [
    {
     "data": {
      "application/vnd.plotly.v1+json": {
       "config": {
        "plotlyServerURL": "https://plot.ly"
       },
       "data": [
        {
         "link": {
          "color": [
           "rgba(255, 165, 0, 0.6)",
           "rgba(128, 0, 128, 0.6)",
           "rgba(0, 128, 0, 0.6)",
           "rgba(0, 128, 0, 0.6)",
           "rgba(255, 182, 193, 0.6)",
           "rgba(128, 0, 128, 0.6)",
           "rgba(255, 165, 0, 0.6)",
           "rgba(128, 0, 128, 0.6)",
           "rgba(255, 182, 193, 0.6)",
           "rgba(255, 165, 0, 0.6)",
           "rgba(255, 182, 193, 0.6)",
           "rgba(128, 0, 128, 0.6)",
           "rgba(0, 128, 0, 0.6)",
           "rgba(128, 0, 128, 0.6)",
           "rgba(255, 182, 193, 0.6)",
           "rgba(0, 128, 0, 0.6)",
           "rgba(255, 165, 0, 0.6)",
           "rgba(128, 0, 128, 0.6)",
           "rgba(255, 182, 193, 0.6)",
           "rgba(0, 128, 0, 0.6)",
           "rgba(255, 165, 0, 0.6)",
           "rgba(128, 0, 128, 0.6)",
           "rgba(255, 182, 193, 0.6)",
           "rgba(255, 165, 0, 0.6)",
           "rgba(255, 165, 0, 0.6)",
           "rgba(0, 128, 0, 0.6)",
           "rgba(255, 182, 193, 0.6)",
           "rgba(0, 128, 0, 0.6)",
           "rgba(128, 0, 128, 0.6)",
           "rgba(255, 165, 0, 0.6)"
          ],
          "source": [
           0,
           4,
           8,
           1,
           5,
           9,
           0,
           4,
           10,
           0,
           5,
           9,
           1,
           4,
           10,
           1,
           6,
           9,
           2,
           7,
           11,
           3,
           5,
           11,
           0,
           7,
           10,
           1,
           4,
           11
          ],
          "target": [
           4,
           8,
           12,
           5,
           9,
           13,
           4,
           10,
           14,
           5,
           9,
           14,
           4,
           10,
           13,
           6,
           9,
           12,
           7,
           11,
           15,
           5,
           11,
           14,
           7,
           10,
           15,
           4,
           11,
           12
          ],
          "value": [
           1,
           1,
           1,
           1,
           1,
           1,
           1,
           1,
           1,
           1,
           1,
           1,
           1,
           1,
           1,
           1,
           1,
           1,
           1,
           1,
           1,
           1,
           1,
           1,
           1,
           1,
           1,
           1,
           1,
           1
          ]
         },
         "node": {
          "color": [
           "rgba(255, 165, 0, 0.6)",
           "rgba(0, 128, 0, 0.6)",
           "rgba(255, 182, 193, 0.6)",
           "rgba(128, 0, 128, 0.6)",
           "rgba(128, 0, 128, 0.6)",
           "rgba(255, 182, 193, 0.6)",
           "rgba(255, 165, 0, 0.6)",
           "rgba(0, 128, 0, 0.6)",
           "rgba(0, 128, 0, 0.6)",
           "rgba(128, 0, 128, 0.6)",
           "rgba(255, 182, 193, 0.6)",
           "rgba(255, 165, 0, 0.6)",
           "rgba(255, 182, 193, 0.6)",
           "rgba(255, 165, 0, 0.6)",
           "rgba(0, 128, 0, 0.6)",
           "rgba(128, 0, 128, 0.6)"
          ],
          "label": [
           "dataset3",
           "dataset2",
           "dataset1",
           "dataset4",
           "datase4",
           "datase1",
           "datase3",
           "datase2",
           "datas2",
           "datas4",
           "datas1",
           "datas3",
           "data1",
           "data3",
           "data2",
           "data4"
          ],
          "line": {
           "color": "black",
           "width": 0.5
          },
          "pad": 15,
          "thickness": 20,
          "x": [
           0.1,
           0.1,
           0.1,
           0.1,
           0.3,
           0.3,
           0.3,
           0.3,
           0.5,
           0.5,
           0.5,
           0.5,
           0.7,
           0.7,
           0.7,
           0.7
          ],
          "y": [
           0.6923076923076923,
           0.3076923076923077,
           0.038461538461538464,
           0.9615384615384616,
           0.8461538461538461,
           0.11538461538461539,
           0.5769230769230769,
           0.38461538461538464,
           0.34615384615384615,
           0.8846153846153846,
           0.11538461538461539,
           0.5769230769230769,
           0.11538461538461539,
           0.6923076923076923,
           0.4230769230769231,
           0.9230769230769231
          ]
         },
         "type": "sankey"
        }
       ],
       "layout": {
        "font": {
         "size": 10
        },
        "template": {
         "data": {
          "bar": [
           {
            "error_x": {
             "color": "#2a3f5f"
            },
            "error_y": {
             "color": "#2a3f5f"
            },
            "marker": {
             "line": {
              "color": "#E5ECF6",
              "width": 0.5
             },
             "pattern": {
              "fillmode": "overlay",
              "size": 10,
              "solidity": 0.2
             }
            },
            "type": "bar"
           }
          ],
          "barpolar": [
           {
            "marker": {
             "line": {
              "color": "#E5ECF6",
              "width": 0.5
             },
             "pattern": {
              "fillmode": "overlay",
              "size": 10,
              "solidity": 0.2
             }
            },
            "type": "barpolar"
           }
          ],
          "carpet": [
           {
            "aaxis": {
             "endlinecolor": "#2a3f5f",
             "gridcolor": "white",
             "linecolor": "white",
             "minorgridcolor": "white",
             "startlinecolor": "#2a3f5f"
            },
            "baxis": {
             "endlinecolor": "#2a3f5f",
             "gridcolor": "white",
             "linecolor": "white",
             "minorgridcolor": "white",
             "startlinecolor": "#2a3f5f"
            },
            "type": "carpet"
           }
          ],
          "choropleth": [
           {
            "colorbar": {
             "outlinewidth": 0,
             "ticks": ""
            },
            "type": "choropleth"
           }
          ],
          "contour": [
           {
            "colorbar": {
             "outlinewidth": 0,
             "ticks": ""
            },
            "colorscale": [
             [
              0,
              "#0d0887"
             ],
             [
              0.1111111111111111,
              "#46039f"
             ],
             [
              0.2222222222222222,
              "#7201a8"
             ],
             [
              0.3333333333333333,
              "#9c179e"
             ],
             [
              0.4444444444444444,
              "#bd3786"
             ],
             [
              0.5555555555555556,
              "#d8576b"
             ],
             [
              0.6666666666666666,
              "#ed7953"
             ],
             [
              0.7777777777777778,
              "#fb9f3a"
             ],
             [
              0.8888888888888888,
              "#fdca26"
             ],
             [
              1,
              "#f0f921"
             ]
            ],
            "type": "contour"
           }
          ],
          "contourcarpet": [
           {
            "colorbar": {
             "outlinewidth": 0,
             "ticks": ""
            },
            "type": "contourcarpet"
           }
          ],
          "heatmap": [
           {
            "colorbar": {
             "outlinewidth": 0,
             "ticks": ""
            },
            "colorscale": [
             [
              0,
              "#0d0887"
             ],
             [
              0.1111111111111111,
              "#46039f"
             ],
             [
              0.2222222222222222,
              "#7201a8"
             ],
             [
              0.3333333333333333,
              "#9c179e"
             ],
             [
              0.4444444444444444,
              "#bd3786"
             ],
             [
              0.5555555555555556,
              "#d8576b"
             ],
             [
              0.6666666666666666,
              "#ed7953"
             ],
             [
              0.7777777777777778,
              "#fb9f3a"
             ],
             [
              0.8888888888888888,
              "#fdca26"
             ],
             [
              1,
              "#f0f921"
             ]
            ],
            "type": "heatmap"
           }
          ],
          "heatmapgl": [
           {
            "colorbar": {
             "outlinewidth": 0,
             "ticks": ""
            },
            "colorscale": [
             [
              0,
              "#0d0887"
             ],
             [
              0.1111111111111111,
              "#46039f"
             ],
             [
              0.2222222222222222,
              "#7201a8"
             ],
             [
              0.3333333333333333,
              "#9c179e"
             ],
             [
              0.4444444444444444,
              "#bd3786"
             ],
             [
              0.5555555555555556,
              "#d8576b"
             ],
             [
              0.6666666666666666,
              "#ed7953"
             ],
             [
              0.7777777777777778,
              "#fb9f3a"
             ],
             [
              0.8888888888888888,
              "#fdca26"
             ],
             [
              1,
              "#f0f921"
             ]
            ],
            "type": "heatmapgl"
           }
          ],
          "histogram": [
           {
            "marker": {
             "pattern": {
              "fillmode": "overlay",
              "size": 10,
              "solidity": 0.2
             }
            },
            "type": "histogram"
           }
          ],
          "histogram2d": [
           {
            "colorbar": {
             "outlinewidth": 0,
             "ticks": ""
            },
            "colorscale": [
             [
              0,
              "#0d0887"
             ],
             [
              0.1111111111111111,
              "#46039f"
             ],
             [
              0.2222222222222222,
              "#7201a8"
             ],
             [
              0.3333333333333333,
              "#9c179e"
             ],
             [
              0.4444444444444444,
              "#bd3786"
             ],
             [
              0.5555555555555556,
              "#d8576b"
             ],
             [
              0.6666666666666666,
              "#ed7953"
             ],
             [
              0.7777777777777778,
              "#fb9f3a"
             ],
             [
              0.8888888888888888,
              "#fdca26"
             ],
             [
              1,
              "#f0f921"
             ]
            ],
            "type": "histogram2d"
           }
          ],
          "histogram2dcontour": [
           {
            "colorbar": {
             "outlinewidth": 0,
             "ticks": ""
            },
            "colorscale": [
             [
              0,
              "#0d0887"
             ],
             [
              0.1111111111111111,
              "#46039f"
             ],
             [
              0.2222222222222222,
              "#7201a8"
             ],
             [
              0.3333333333333333,
              "#9c179e"
             ],
             [
              0.4444444444444444,
              "#bd3786"
             ],
             [
              0.5555555555555556,
              "#d8576b"
             ],
             [
              0.6666666666666666,
              "#ed7953"
             ],
             [
              0.7777777777777778,
              "#fb9f3a"
             ],
             [
              0.8888888888888888,
              "#fdca26"
             ],
             [
              1,
              "#f0f921"
             ]
            ],
            "type": "histogram2dcontour"
           }
          ],
          "mesh3d": [
           {
            "colorbar": {
             "outlinewidth": 0,
             "ticks": ""
            },
            "type": "mesh3d"
           }
          ],
          "parcoords": [
           {
            "line": {
             "colorbar": {
              "outlinewidth": 0,
              "ticks": ""
             }
            },
            "type": "parcoords"
           }
          ],
          "pie": [
           {
            "automargin": true,
            "type": "pie"
           }
          ],
          "scatter": [
           {
            "fillpattern": {
             "fillmode": "overlay",
             "size": 10,
             "solidity": 0.2
            },
            "type": "scatter"
           }
          ],
          "scatter3d": [
           {
            "line": {
             "colorbar": {
              "outlinewidth": 0,
              "ticks": ""
             }
            },
            "marker": {
             "colorbar": {
              "outlinewidth": 0,
              "ticks": ""
             }
            },
            "type": "scatter3d"
           }
          ],
          "scattercarpet": [
           {
            "marker": {
             "colorbar": {
              "outlinewidth": 0,
              "ticks": ""
             }
            },
            "type": "scattercarpet"
           }
          ],
          "scattergeo": [
           {
            "marker": {
             "colorbar": {
              "outlinewidth": 0,
              "ticks": ""
             }
            },
            "type": "scattergeo"
           }
          ],
          "scattergl": [
           {
            "marker": {
             "colorbar": {
              "outlinewidth": 0,
              "ticks": ""
             }
            },
            "type": "scattergl"
           }
          ],
          "scattermapbox": [
           {
            "marker": {
             "colorbar": {
              "outlinewidth": 0,
              "ticks": ""
             }
            },
            "type": "scattermapbox"
           }
          ],
          "scatterpolar": [
           {
            "marker": {
             "colorbar": {
              "outlinewidth": 0,
              "ticks": ""
             }
            },
            "type": "scatterpolar"
           }
          ],
          "scatterpolargl": [
           {
            "marker": {
             "colorbar": {
              "outlinewidth": 0,
              "ticks": ""
             }
            },
            "type": "scatterpolargl"
           }
          ],
          "scatterternary": [
           {
            "marker": {
             "colorbar": {
              "outlinewidth": 0,
              "ticks": ""
             }
            },
            "type": "scatterternary"
           }
          ],
          "surface": [
           {
            "colorbar": {
             "outlinewidth": 0,
             "ticks": ""
            },
            "colorscale": [
             [
              0,
              "#0d0887"
             ],
             [
              0.1111111111111111,
              "#46039f"
             ],
             [
              0.2222222222222222,
              "#7201a8"
             ],
             [
              0.3333333333333333,
              "#9c179e"
             ],
             [
              0.4444444444444444,
              "#bd3786"
             ],
             [
              0.5555555555555556,
              "#d8576b"
             ],
             [
              0.6666666666666666,
              "#ed7953"
             ],
             [
              0.7777777777777778,
              "#fb9f3a"
             ],
             [
              0.8888888888888888,
              "#fdca26"
             ],
             [
              1,
              "#f0f921"
             ]
            ],
            "type": "surface"
           }
          ],
          "table": [
           {
            "cells": {
             "fill": {
              "color": "#EBF0F8"
             },
             "line": {
              "color": "white"
             }
            },
            "header": {
             "fill": {
              "color": "#C8D4E3"
             },
             "line": {
              "color": "white"
             }
            },
            "type": "table"
           }
          ]
         },
         "layout": {
          "annotationdefaults": {
           "arrowcolor": "#2a3f5f",
           "arrowhead": 0,
           "arrowwidth": 1
          },
          "autotypenumbers": "strict",
          "coloraxis": {
           "colorbar": {
            "outlinewidth": 0,
            "ticks": ""
           }
          },
          "colorscale": {
           "diverging": [
            [
             0,
             "#8e0152"
            ],
            [
             0.1,
             "#c51b7d"
            ],
            [
             0.2,
             "#de77ae"
            ],
            [
             0.3,
             "#f1b6da"
            ],
            [
             0.4,
             "#fde0ef"
            ],
            [
             0.5,
             "#f7f7f7"
            ],
            [
             0.6,
             "#e6f5d0"
            ],
            [
             0.7,
             "#b8e186"
            ],
            [
             0.8,
             "#7fbc41"
            ],
            [
             0.9,
             "#4d9221"
            ],
            [
             1,
             "#276419"
            ]
           ],
           "sequential": [
            [
             0,
             "#0d0887"
            ],
            [
             0.1111111111111111,
             "#46039f"
            ],
            [
             0.2222222222222222,
             "#7201a8"
            ],
            [
             0.3333333333333333,
             "#9c179e"
            ],
            [
             0.4444444444444444,
             "#bd3786"
            ],
            [
             0.5555555555555556,
             "#d8576b"
            ],
            [
             0.6666666666666666,
             "#ed7953"
            ],
            [
             0.7777777777777778,
             "#fb9f3a"
            ],
            [
             0.8888888888888888,
             "#fdca26"
            ],
            [
             1,
             "#f0f921"
            ]
           ],
           "sequentialminus": [
            [
             0,
             "#0d0887"
            ],
            [
             0.1111111111111111,
             "#46039f"
            ],
            [
             0.2222222222222222,
             "#7201a8"
            ],
            [
             0.3333333333333333,
             "#9c179e"
            ],
            [
             0.4444444444444444,
             "#bd3786"
            ],
            [
             0.5555555555555556,
             "#d8576b"
            ],
            [
             0.6666666666666666,
             "#ed7953"
            ],
            [
             0.7777777777777778,
             "#fb9f3a"
            ],
            [
             0.8888888888888888,
             "#fdca26"
            ],
            [
             1,
             "#f0f921"
            ]
           ]
          },
          "colorway": [
           "#636efa",
           "#EF553B",
           "#00cc96",
           "#ab63fa",
           "#FFA15A",
           "#19d3f3",
           "#FF6692",
           "#B6E880",
           "#FF97FF",
           "#FECB52"
          ],
          "font": {
           "color": "#2a3f5f"
          },
          "geo": {
           "bgcolor": "white",
           "lakecolor": "white",
           "landcolor": "#E5ECF6",
           "showlakes": true,
           "showland": true,
           "subunitcolor": "white"
          },
          "hoverlabel": {
           "align": "left"
          },
          "hovermode": "closest",
          "mapbox": {
           "style": "light"
          },
          "paper_bgcolor": "white",
          "plot_bgcolor": "#E5ECF6",
          "polar": {
           "angularaxis": {
            "gridcolor": "white",
            "linecolor": "white",
            "ticks": ""
           },
           "bgcolor": "#E5ECF6",
           "radialaxis": {
            "gridcolor": "white",
            "linecolor": "white",
            "ticks": ""
           }
          },
          "scene": {
           "xaxis": {
            "backgroundcolor": "#E5ECF6",
            "gridcolor": "white",
            "gridwidth": 2,
            "linecolor": "white",
            "showbackground": true,
            "ticks": "",
            "zerolinecolor": "white"
           },
           "yaxis": {
            "backgroundcolor": "#E5ECF6",
            "gridcolor": "white",
            "gridwidth": 2,
            "linecolor": "white",
            "showbackground": true,
            "ticks": "",
            "zerolinecolor": "white"
           },
           "zaxis": {
            "backgroundcolor": "#E5ECF6",
            "gridcolor": "white",
            "gridwidth": 2,
            "linecolor": "white",
            "showbackground": true,
            "ticks": "",
            "zerolinecolor": "white"
           }
          },
          "shapedefaults": {
           "line": {
            "color": "#2a3f5f"
           }
          },
          "ternary": {
           "aaxis": {
            "gridcolor": "white",
            "linecolor": "white",
            "ticks": ""
           },
           "baxis": {
            "gridcolor": "white",
            "linecolor": "white",
            "ticks": ""
           },
           "bgcolor": "#E5ECF6",
           "caxis": {
            "gridcolor": "white",
            "linecolor": "white",
            "ticks": ""
           }
          },
          "title": {
           "x": 0.05
          },
          "xaxis": {
           "automargin": true,
           "gridcolor": "white",
           "linecolor": "white",
           "ticks": "",
           "title": {
            "standoff": 15
           },
           "zerolinecolor": "white",
           "zerolinewidth": 2
          },
          "yaxis": {
           "automargin": true,
           "gridcolor": "white",
           "linecolor": "white",
           "ticks": "",
           "title": {
            "standoff": 15
           },
           "zerolinecolor": "white",
           "zerolinewidth": 2
          }
         }
        },
        "title": {
         "text": "Dataset Order Sankey Diagram"
        }
       }
      }
     },
     "metadata": {},
     "output_type": "display_data"
    }
   ],
   "source": [
    "import pandas as pd\n",
    "import plotly.graph_objects as go\n",
    "\n",
    "# Define the dataset sequences\n",
    "# Data provided\n",
    "data = [\n",
    "    ['dataset3', 'datase4', 'datas2', 'data1'],\n",
    "    ['dataset2', 'datase1', 'datas4', 'data3'],\n",
    "    ['dataset3', 'datase4', 'datas1', 'data2'],\n",
    "    ['dataset3', 'datase1', 'datas4', 'data2'],\n",
    "    ['dataset2', 'datase4', 'datas1', 'data3'],\n",
    "    ['dataset2', 'datase3', 'datas4', 'data1'],\n",
    "    ['dataset1', 'datase2', 'datas3', 'data4'],\n",
    "    ['dataset4', 'datase1', 'datas3', 'data2'],\n",
    "    ['dataset3', 'datase2', 'datas1', 'data4'],\n",
    "    ['dataset2', 'datase4', 'datas3', 'data1']\n",
    "]\n",
    "\n",
    "# Create a DataFrame\n",
    "df = pd.DataFrame(data, columns=['level_1', 'level_2', 'level_3', 'level_4'])\n",
    "\n",
    "# Generate a list of all unique labels\n",
    "labels = pd.unique(df.values.ravel('K')).tolist()\n",
    "\n",
    "# Create mappings from labels to indices\n",
    "label_indices = {label: i for i, label in enumerate(labels)}\n",
    "\n",
    "# Define colors for each dataset\n",
    "color_mapping = {\n",
    "    'dataset1': 'rgba(255, 182, 193, 0.6)',  # Lightpink\n",
    "    'dataset2': 'rgba(0, 128, 0, 0.6)',      # Green\n",
    "    'dataset3': 'rgba(255, 165, 0, 0.6)',    # Orange\n",
    "    'dataset4': 'rgba(128, 0, 128, 0.6)',    # Purple\n",
    "    'datase1': 'rgba(255, 182, 193, 0.6)',   # Lightpink\n",
    "    'datase2': 'rgba(0, 128, 0, 0.6)',       # Green\n",
    "    'datase3': 'rgba(255, 165, 0, 0.6)',     # Orange\n",
    "    'datase4': 'rgba(128, 0, 128, 0.6)',     # Purple\n",
    "    'datas1': 'rgba(255, 182, 193, 0.6)',    # Lightpink\n",
    "    'datas2': 'rgba(0, 128, 0, 0.6)',        # Green\n",
    "    'datas3': 'rgba(255, 165, 0, 0.6)',      # Orange\n",
    "    'datas4': 'rgba(128, 0, 128, 0.6)',      # Purple\n",
    "    'data1': 'rgba(255, 182, 193, 0.6)',     # Lightpink\n",
    "    'data2': 'rgba(0, 128, 0, 0.6)',         # Green\n",
    "    'data3': 'rgba(255, 165, 0, 0.6)',       # Orange\n",
    "    'data4': 'rgba(128, 0, 128, 0.6)'        # Purple\n",
    "}\n",
    "\n",
    "# Initialize lists for the source, target, values, and colors\n",
    "source = []\n",
    "target = []\n",
    "value = []\n",
    "link_colors = []\n",
    "\n",
    "# Define x and y positions for nodes\n",
    "x_positions = [0.1, 0.3, 0.5, 0.7]\n",
    "y_positions1 = [0.5/13, 4/13, 9/13, 12.5/13]\n",
    "y_positions2 = [1.5/13, 5/13, 7.5/13, 11/13]\n",
    "y_positions3 = [1.5/13, 4.5/13, 7.5/13, 11.5/13]\n",
    "y_positions4 = [1.5/13, 5.5/13, 9/13, 12/13]\n",
    "\n",
    "# Define positions for each label\n",
    "node_positions = {\n",
    "    'dataset1': [x_positions[0], y_positions1[0]],\n",
    "    'dataset2': [x_positions[0], y_positions1[1]],\n",
    "    'dataset3': [x_positions[0], y_positions1[2]],\n",
    "    'dataset4': [x_positions[0], y_positions1[3]],\n",
    "    'datase1': [x_positions[1], y_positions2[0]],\n",
    "    'datase2': [x_positions[1], y_positions2[1]],\n",
    "    'datase3': [x_positions[1], y_positions2[2]],\n",
    "    'datase4': [x_positions[1], y_positions2[3]],\n",
    "    'datas1': [x_positions[2], y_positions3[0]],\n",
    "    'datas2': [x_positions[2], y_positions3[1]],\n",
    "    'datas3': [x_positions[2], y_positions3[2]],\n",
    "    'datas4': [x_positions[2], y_positions3[3]],\n",
    "    'data1': [x_positions[3], y_positions4[0]],\n",
    "    'data2': [x_positions[3], y_positions4[1]],\n",
    "    'data3': [x_positions[3], y_positions4[2]],\n",
    "    'data4': [x_positions[3], y_positions4[3]]\n",
    "}\n",
    "\n",
    "# Populate the source, target, value lists and assign link colors based on the first dataset in the sequence\n",
    "for i in range(len(df)):\n",
    "    for j in range(len(df.columns) - 1):\n",
    "        source.append(label_indices[df.iloc[i, j]])\n",
    "        target.append(label_indices[df.iloc[i, j + 1]])\n",
    "        value.append(1)\n",
    "        link_colors.append(color_mapping[df.iloc[i, j]])\n",
    "\n",
    "# Prepare the x and y positions for nodes\n",
    "x_coords = []\n",
    "y_coords = []\n",
    "node_colors = []\n",
    "for label in labels:\n",
    "    x, y = node_positions[label]\n",
    "    x_coords.append(x)\n",
    "    y_coords.append(y)\n",
    "    node_colors.append(color_mapping[label])\n",
    "\n",
    "# Create the Sankey diagram\n",
    "fig = go.Figure(data=[go.Sankey(\n",
    "    node=dict(\n",
    "        pad=15,\n",
    "        thickness=20,\n",
    "        line=dict(color=\"black\", width=0.5),\n",
    "        label=labels,\n",
    "        x=x_coords,\n",
    "        y=y_coords,\n",
    "        color=node_colors\n",
    "    ),\n",
    "    link=dict(\n",
    "        source=source,\n",
    "        target=target,\n",
    "        value=value,\n",
    "        color=link_colors\n",
    "    )\n",
    ")])\n",
    "\n",
    "fig.update_layout(title_text='Dataset Order Sankey Diagram', font_size=10)\n",
    "fig.show()\n"
   ]
  },
  {
   "cell_type": "code",
   "execution_count": 52,
   "metadata": {},
   "outputs": [
    {
     "data": {
      "application/vnd.plotly.v1+json": {
       "config": {
        "plotlyServerURL": "https://plot.ly"
       },
       "data": [
        {
         "link": {
          "color": [
           "rgba(255, 165, 0, 0.6)",
           "rgba(128, 0, 128, 0.6)",
           "rgba(0, 128, 0, 0.6)",
           "rgba(0, 128, 0, 0.6)",
           "rgba(255, 182, 193, 0.6)",
           "rgba(128, 0, 128, 0.6)",
           "rgba(255, 165, 0, 0.6)",
           "rgba(128, 0, 128, 0.6)",
           "rgba(255, 182, 193, 0.6)",
           "rgba(255, 165, 0, 0.6)",
           "rgba(255, 182, 193, 0.6)",
           "rgba(128, 0, 128, 0.6)",
           "rgba(0, 128, 0, 0.6)",
           "rgba(128, 0, 128, 0.6)",
           "rgba(255, 182, 193, 0.6)",
           "rgba(0, 128, 0, 0.6)",
           "rgba(255, 165, 0, 0.6)",
           "rgba(128, 0, 128, 0.6)",
           "rgba(255, 182, 193, 0.6)",
           "rgba(0, 128, 0, 0.6)",
           "rgba(255, 165, 0, 0.6)",
           "rgba(128, 0, 128, 0.6)",
           "rgba(255, 182, 193, 0.6)",
           "rgba(255, 165, 0, 0.6)",
           "rgba(255, 165, 0, 0.6)",
           "rgba(0, 128, 0, 0.6)",
           "rgba(255, 182, 193, 0.6)",
           "rgba(0, 128, 0, 0.6)",
           "rgba(128, 0, 128, 0.6)",
           "rgba(255, 165, 0, 0.6)"
          ],
          "source": [
           0,
           4,
           8,
           1,
           5,
           9,
           0,
           4,
           10,
           0,
           5,
           9,
           1,
           4,
           10,
           1,
           6,
           9,
           2,
           7,
           11,
           3,
           5,
           11,
           0,
           7,
           10,
           1,
           4,
           11
          ],
          "target": [
           4,
           8,
           12,
           5,
           9,
           13,
           4,
           10,
           14,
           5,
           9,
           14,
           4,
           10,
           13,
           6,
           9,
           12,
           7,
           11,
           15,
           5,
           11,
           14,
           7,
           10,
           15,
           4,
           11,
           12
          ],
          "value": [
           1,
           1,
           1,
           1,
           1,
           1,
           1,
           1,
           1,
           1,
           1,
           1,
           1,
           1,
           1,
           1,
           1,
           1,
           1,
           1,
           1,
           1,
           1,
           1,
           1,
           1,
           1,
           1,
           1,
           1
          ]
         },
         "node": {
          "color": [
           "rgba(255, 165, 0, 0.6)",
           "rgba(0, 128, 0, 0.6)",
           "rgba(255, 182, 193, 0.6)",
           "rgba(128, 0, 128, 0.6)",
           "rgba(128, 0, 128, 0.6)",
           "rgba(255, 182, 193, 0.6)",
           "rgba(255, 165, 0, 0.6)",
           "rgba(0, 128, 0, 0.6)",
           "rgba(0, 128, 0, 0.6)",
           "rgba(128, 0, 128, 0.6)",
           "rgba(255, 182, 193, 0.6)",
           "rgba(255, 165, 0, 0.6)",
           "rgba(255, 182, 193, 0.6)",
           "rgba(255, 165, 0, 0.6)",
           "rgba(0, 128, 0, 0.6)",
           "rgba(128, 0, 128, 0.6)"
          ],
          "label": [
           "",
           "",
           "",
           "",
           "",
           "",
           "",
           "",
           "",
           "",
           "",
           "",
           "",
           "",
           "",
           ""
          ],
          "line": {
           "color": "black",
           "width": 0.5
          },
          "pad": 15,
          "thickness": 20,
          "x": [
           0.1,
           0.1,
           0.1,
           0.1,
           0.3,
           0.3,
           0.3,
           0.3,
           0.5,
           0.5,
           0.5,
           0.5,
           0.7,
           0.7,
           0.7,
           0.7
          ],
          "y": [
           0.6923076923076923,
           0.3076923076923077,
           0.038461538461538464,
           0.9615384615384616,
           0.8461538461538461,
           0.11538461538461539,
           0.5769230769230769,
           0.38461538461538464,
           0.34615384615384615,
           0.8846153846153846,
           0.11538461538461539,
           0.5769230769230769,
           0.11538461538461539,
           0.6923076923076923,
           0.4230769230769231,
           0.9230769230769231
          ]
         },
         "type": "sankey"
        }
       ],
       "layout": {
        "font": {
         "size": 10
        },
        "template": {
         "data": {
          "bar": [
           {
            "error_x": {
             "color": "#2a3f5f"
            },
            "error_y": {
             "color": "#2a3f5f"
            },
            "marker": {
             "line": {
              "color": "#E5ECF6",
              "width": 0.5
             },
             "pattern": {
              "fillmode": "overlay",
              "size": 10,
              "solidity": 0.2
             }
            },
            "type": "bar"
           }
          ],
          "barpolar": [
           {
            "marker": {
             "line": {
              "color": "#E5ECF6",
              "width": 0.5
             },
             "pattern": {
              "fillmode": "overlay",
              "size": 10,
              "solidity": 0.2
             }
            },
            "type": "barpolar"
           }
          ],
          "carpet": [
           {
            "aaxis": {
             "endlinecolor": "#2a3f5f",
             "gridcolor": "white",
             "linecolor": "white",
             "minorgridcolor": "white",
             "startlinecolor": "#2a3f5f"
            },
            "baxis": {
             "endlinecolor": "#2a3f5f",
             "gridcolor": "white",
             "linecolor": "white",
             "minorgridcolor": "white",
             "startlinecolor": "#2a3f5f"
            },
            "type": "carpet"
           }
          ],
          "choropleth": [
           {
            "colorbar": {
             "outlinewidth": 0,
             "ticks": ""
            },
            "type": "choropleth"
           }
          ],
          "contour": [
           {
            "colorbar": {
             "outlinewidth": 0,
             "ticks": ""
            },
            "colorscale": [
             [
              0,
              "#0d0887"
             ],
             [
              0.1111111111111111,
              "#46039f"
             ],
             [
              0.2222222222222222,
              "#7201a8"
             ],
             [
              0.3333333333333333,
              "#9c179e"
             ],
             [
              0.4444444444444444,
              "#bd3786"
             ],
             [
              0.5555555555555556,
              "#d8576b"
             ],
             [
              0.6666666666666666,
              "#ed7953"
             ],
             [
              0.7777777777777778,
              "#fb9f3a"
             ],
             [
              0.8888888888888888,
              "#fdca26"
             ],
             [
              1,
              "#f0f921"
             ]
            ],
            "type": "contour"
           }
          ],
          "contourcarpet": [
           {
            "colorbar": {
             "outlinewidth": 0,
             "ticks": ""
            },
            "type": "contourcarpet"
           }
          ],
          "heatmap": [
           {
            "colorbar": {
             "outlinewidth": 0,
             "ticks": ""
            },
            "colorscale": [
             [
              0,
              "#0d0887"
             ],
             [
              0.1111111111111111,
              "#46039f"
             ],
             [
              0.2222222222222222,
              "#7201a8"
             ],
             [
              0.3333333333333333,
              "#9c179e"
             ],
             [
              0.4444444444444444,
              "#bd3786"
             ],
             [
              0.5555555555555556,
              "#d8576b"
             ],
             [
              0.6666666666666666,
              "#ed7953"
             ],
             [
              0.7777777777777778,
              "#fb9f3a"
             ],
             [
              0.8888888888888888,
              "#fdca26"
             ],
             [
              1,
              "#f0f921"
             ]
            ],
            "type": "heatmap"
           }
          ],
          "heatmapgl": [
           {
            "colorbar": {
             "outlinewidth": 0,
             "ticks": ""
            },
            "colorscale": [
             [
              0,
              "#0d0887"
             ],
             [
              0.1111111111111111,
              "#46039f"
             ],
             [
              0.2222222222222222,
              "#7201a8"
             ],
             [
              0.3333333333333333,
              "#9c179e"
             ],
             [
              0.4444444444444444,
              "#bd3786"
             ],
             [
              0.5555555555555556,
              "#d8576b"
             ],
             [
              0.6666666666666666,
              "#ed7953"
             ],
             [
              0.7777777777777778,
              "#fb9f3a"
             ],
             [
              0.8888888888888888,
              "#fdca26"
             ],
             [
              1,
              "#f0f921"
             ]
            ],
            "type": "heatmapgl"
           }
          ],
          "histogram": [
           {
            "marker": {
             "pattern": {
              "fillmode": "overlay",
              "size": 10,
              "solidity": 0.2
             }
            },
            "type": "histogram"
           }
          ],
          "histogram2d": [
           {
            "colorbar": {
             "outlinewidth": 0,
             "ticks": ""
            },
            "colorscale": [
             [
              0,
              "#0d0887"
             ],
             [
              0.1111111111111111,
              "#46039f"
             ],
             [
              0.2222222222222222,
              "#7201a8"
             ],
             [
              0.3333333333333333,
              "#9c179e"
             ],
             [
              0.4444444444444444,
              "#bd3786"
             ],
             [
              0.5555555555555556,
              "#d8576b"
             ],
             [
              0.6666666666666666,
              "#ed7953"
             ],
             [
              0.7777777777777778,
              "#fb9f3a"
             ],
             [
              0.8888888888888888,
              "#fdca26"
             ],
             [
              1,
              "#f0f921"
             ]
            ],
            "type": "histogram2d"
           }
          ],
          "histogram2dcontour": [
           {
            "colorbar": {
             "outlinewidth": 0,
             "ticks": ""
            },
            "colorscale": [
             [
              0,
              "#0d0887"
             ],
             [
              0.1111111111111111,
              "#46039f"
             ],
             [
              0.2222222222222222,
              "#7201a8"
             ],
             [
              0.3333333333333333,
              "#9c179e"
             ],
             [
              0.4444444444444444,
              "#bd3786"
             ],
             [
              0.5555555555555556,
              "#d8576b"
             ],
             [
              0.6666666666666666,
              "#ed7953"
             ],
             [
              0.7777777777777778,
              "#fb9f3a"
             ],
             [
              0.8888888888888888,
              "#fdca26"
             ],
             [
              1,
              "#f0f921"
             ]
            ],
            "type": "histogram2dcontour"
           }
          ],
          "mesh3d": [
           {
            "colorbar": {
             "outlinewidth": 0,
             "ticks": ""
            },
            "type": "mesh3d"
           }
          ],
          "parcoords": [
           {
            "line": {
             "colorbar": {
              "outlinewidth": 0,
              "ticks": ""
             }
            },
            "type": "parcoords"
           }
          ],
          "pie": [
           {
            "automargin": true,
            "type": "pie"
           }
          ],
          "scatter": [
           {
            "fillpattern": {
             "fillmode": "overlay",
             "size": 10,
             "solidity": 0.2
            },
            "type": "scatter"
           }
          ],
          "scatter3d": [
           {
            "line": {
             "colorbar": {
              "outlinewidth": 0,
              "ticks": ""
             }
            },
            "marker": {
             "colorbar": {
              "outlinewidth": 0,
              "ticks": ""
             }
            },
            "type": "scatter3d"
           }
          ],
          "scattercarpet": [
           {
            "marker": {
             "colorbar": {
              "outlinewidth": 0,
              "ticks": ""
             }
            },
            "type": "scattercarpet"
           }
          ],
          "scattergeo": [
           {
            "marker": {
             "colorbar": {
              "outlinewidth": 0,
              "ticks": ""
             }
            },
            "type": "scattergeo"
           }
          ],
          "scattergl": [
           {
            "marker": {
             "colorbar": {
              "outlinewidth": 0,
              "ticks": ""
             }
            },
            "type": "scattergl"
           }
          ],
          "scattermapbox": [
           {
            "marker": {
             "colorbar": {
              "outlinewidth": 0,
              "ticks": ""
             }
            },
            "type": "scattermapbox"
           }
          ],
          "scatterpolar": [
           {
            "marker": {
             "colorbar": {
              "outlinewidth": 0,
              "ticks": ""
             }
            },
            "type": "scatterpolar"
           }
          ],
          "scatterpolargl": [
           {
            "marker": {
             "colorbar": {
              "outlinewidth": 0,
              "ticks": ""
             }
            },
            "type": "scatterpolargl"
           }
          ],
          "scatterternary": [
           {
            "marker": {
             "colorbar": {
              "outlinewidth": 0,
              "ticks": ""
             }
            },
            "type": "scatterternary"
           }
          ],
          "surface": [
           {
            "colorbar": {
             "outlinewidth": 0,
             "ticks": ""
            },
            "colorscale": [
             [
              0,
              "#0d0887"
             ],
             [
              0.1111111111111111,
              "#46039f"
             ],
             [
              0.2222222222222222,
              "#7201a8"
             ],
             [
              0.3333333333333333,
              "#9c179e"
             ],
             [
              0.4444444444444444,
              "#bd3786"
             ],
             [
              0.5555555555555556,
              "#d8576b"
             ],
             [
              0.6666666666666666,
              "#ed7953"
             ],
             [
              0.7777777777777778,
              "#fb9f3a"
             ],
             [
              0.8888888888888888,
              "#fdca26"
             ],
             [
              1,
              "#f0f921"
             ]
            ],
            "type": "surface"
           }
          ],
          "table": [
           {
            "cells": {
             "fill": {
              "color": "#EBF0F8"
             },
             "line": {
              "color": "white"
             }
            },
            "header": {
             "fill": {
              "color": "#C8D4E3"
             },
             "line": {
              "color": "white"
             }
            },
            "type": "table"
           }
          ]
         },
         "layout": {
          "annotationdefaults": {
           "arrowcolor": "#2a3f5f",
           "arrowhead": 0,
           "arrowwidth": 1
          },
          "autotypenumbers": "strict",
          "coloraxis": {
           "colorbar": {
            "outlinewidth": 0,
            "ticks": ""
           }
          },
          "colorscale": {
           "diverging": [
            [
             0,
             "#8e0152"
            ],
            [
             0.1,
             "#c51b7d"
            ],
            [
             0.2,
             "#de77ae"
            ],
            [
             0.3,
             "#f1b6da"
            ],
            [
             0.4,
             "#fde0ef"
            ],
            [
             0.5,
             "#f7f7f7"
            ],
            [
             0.6,
             "#e6f5d0"
            ],
            [
             0.7,
             "#b8e186"
            ],
            [
             0.8,
             "#7fbc41"
            ],
            [
             0.9,
             "#4d9221"
            ],
            [
             1,
             "#276419"
            ]
           ],
           "sequential": [
            [
             0,
             "#0d0887"
            ],
            [
             0.1111111111111111,
             "#46039f"
            ],
            [
             0.2222222222222222,
             "#7201a8"
            ],
            [
             0.3333333333333333,
             "#9c179e"
            ],
            [
             0.4444444444444444,
             "#bd3786"
            ],
            [
             0.5555555555555556,
             "#d8576b"
            ],
            [
             0.6666666666666666,
             "#ed7953"
            ],
            [
             0.7777777777777778,
             "#fb9f3a"
            ],
            [
             0.8888888888888888,
             "#fdca26"
            ],
            [
             1,
             "#f0f921"
            ]
           ],
           "sequentialminus": [
            [
             0,
             "#0d0887"
            ],
            [
             0.1111111111111111,
             "#46039f"
            ],
            [
             0.2222222222222222,
             "#7201a8"
            ],
            [
             0.3333333333333333,
             "#9c179e"
            ],
            [
             0.4444444444444444,
             "#bd3786"
            ],
            [
             0.5555555555555556,
             "#d8576b"
            ],
            [
             0.6666666666666666,
             "#ed7953"
            ],
            [
             0.7777777777777778,
             "#fb9f3a"
            ],
            [
             0.8888888888888888,
             "#fdca26"
            ],
            [
             1,
             "#f0f921"
            ]
           ]
          },
          "colorway": [
           "#636efa",
           "#EF553B",
           "#00cc96",
           "#ab63fa",
           "#FFA15A",
           "#19d3f3",
           "#FF6692",
           "#B6E880",
           "#FF97FF",
           "#FECB52"
          ],
          "font": {
           "color": "#2a3f5f"
          },
          "geo": {
           "bgcolor": "white",
           "lakecolor": "white",
           "landcolor": "#E5ECF6",
           "showlakes": true,
           "showland": true,
           "subunitcolor": "white"
          },
          "hoverlabel": {
           "align": "left"
          },
          "hovermode": "closest",
          "mapbox": {
           "style": "light"
          },
          "paper_bgcolor": "white",
          "plot_bgcolor": "#E5ECF6",
          "polar": {
           "angularaxis": {
            "gridcolor": "white",
            "linecolor": "white",
            "ticks": ""
           },
           "bgcolor": "#E5ECF6",
           "radialaxis": {
            "gridcolor": "white",
            "linecolor": "white",
            "ticks": ""
           }
          },
          "scene": {
           "xaxis": {
            "backgroundcolor": "#E5ECF6",
            "gridcolor": "white",
            "gridwidth": 2,
            "linecolor": "white",
            "showbackground": true,
            "ticks": "",
            "zerolinecolor": "white"
           },
           "yaxis": {
            "backgroundcolor": "#E5ECF6",
            "gridcolor": "white",
            "gridwidth": 2,
            "linecolor": "white",
            "showbackground": true,
            "ticks": "",
            "zerolinecolor": "white"
           },
           "zaxis": {
            "backgroundcolor": "#E5ECF6",
            "gridcolor": "white",
            "gridwidth": 2,
            "linecolor": "white",
            "showbackground": true,
            "ticks": "",
            "zerolinecolor": "white"
           }
          },
          "shapedefaults": {
           "line": {
            "color": "#2a3f5f"
           }
          },
          "ternary": {
           "aaxis": {
            "gridcolor": "white",
            "linecolor": "white",
            "ticks": ""
           },
           "baxis": {
            "gridcolor": "white",
            "linecolor": "white",
            "ticks": ""
           },
           "bgcolor": "#E5ECF6",
           "caxis": {
            "gridcolor": "white",
            "linecolor": "white",
            "ticks": ""
           }
          },
          "title": {
           "x": 0.05
          },
          "xaxis": {
           "automargin": true,
           "gridcolor": "white",
           "linecolor": "white",
           "ticks": "",
           "title": {
            "standoff": 15
           },
           "zerolinecolor": "white",
           "zerolinewidth": 2
          },
          "yaxis": {
           "automargin": true,
           "gridcolor": "white",
           "linecolor": "white",
           "ticks": "",
           "title": {
            "standoff": 15
           },
           "zerolinecolor": "white",
           "zerolinewidth": 2
          }
         }
        },
        "title": {
         "text": "Dataset Order Sankey Diagram"
        }
       }
      }
     },
     "metadata": {},
     "output_type": "display_data"
    }
   ],
   "source": [
    "import pandas as pd\n",
    "import plotly.graph_objects as go\n",
    "\n",
    "# Define the dataset sequences\n",
    "# Data provided\n",
    "data = [\n",
    "    ['dataset3', 'datase4', 'datas2', 'data1'],\n",
    "    ['dataset2', 'datase1', 'datas4', 'data3'],\n",
    "    ['dataset3', 'datase4', 'datas1', 'data2'],\n",
    "    ['dataset3', 'datase1', 'datas4', 'data2'],\n",
    "    ['dataset2', 'datase4', 'datas1', 'data3'],\n",
    "    ['dataset2', 'datase3', 'datas4', 'data1'],\n",
    "    ['dataset1', 'datase2', 'datas3', 'data4'],\n",
    "    ['dataset4', 'datase1', 'datas3', 'data2'],\n",
    "    ['dataset3', 'datase2', 'datas1', 'data4'],\n",
    "    ['dataset2', 'datase4', 'datas3', 'data1']\n",
    "]\n",
    "\n",
    "# Create a DataFrame\n",
    "df = pd.DataFrame(data, columns=['level_1', 'level_2', 'level_3', 'level_4'])\n",
    "\n",
    "# Generate a list of all unique labels\n",
    "labels = pd.unique(df.values.ravel('K')).tolist()\n",
    "\n",
    "# Create mappings from labels to indices\n",
    "label_indices = {label: i for i, label in enumerate(labels)}\n",
    "\n",
    "# Define colors for each dataset\n",
    "color_mapping = {\n",
    "    'dataset1': 'rgba(255, 182, 193, 0.6)',  # Lightpink\n",
    "    'dataset2': 'rgba(0, 128, 0, 0.6)',      # Green\n",
    "    'dataset3': 'rgba(255, 165, 0, 0.6)',    # Orange\n",
    "    'dataset4': 'rgba(128, 0, 128, 0.6)',    # Purple\n",
    "    'datase1': 'rgba(255, 182, 193, 0.6)',   # Lightpink\n",
    "    'datase2': 'rgba(0, 128, 0, 0.6)',       # Green\n",
    "    'datase3': 'rgba(255, 165, 0, 0.6)',     # Orange\n",
    "    'datase4': 'rgba(128, 0, 128, 0.6)',     # Purple\n",
    "    'datas1': 'rgba(255, 182, 193, 0.6)',    # Lightpink\n",
    "    'datas2': 'rgba(0, 128, 0, 0.6)',        # Green\n",
    "    'datas3': 'rgba(255, 165, 0, 0.6)',      # Orange\n",
    "    'datas4': 'rgba(128, 0, 128, 0.6)',      # Purple\n",
    "    'data1': 'rgba(255, 182, 193, 0.6)',     # Lightpink\n",
    "    'data2': 'rgba(0, 128, 0, 0.6)',         # Green\n",
    "    'data3': 'rgba(255, 165, 0, 0.6)',       # Orange\n",
    "    'data4': 'rgba(128, 0, 128, 0.6)'        # Purple\n",
    "}\n",
    "\n",
    "# Initialize lists for the source, target, values, and colors\n",
    "source = []\n",
    "target = []\n",
    "value = []\n",
    "link_colors = []\n",
    "\n",
    "# Define x and y positions for nodes\n",
    "x_positions = [0.1, 0.3, 0.5, 0.7]\n",
    "y_positions1 = [0.5/13, 4/13, 9/13, 12.5/13]\n",
    "y_positions2 = [1.5/13, 5/13, 7.5/13, 11/13]\n",
    "y_positions3 = [1.5/13, 4.5/13, 7.5/13, 11.5/13]\n",
    "y_positions4 = [1.5/13, 5.5/13, 9/13, 12/13]\n",
    "\n",
    "# Define positions for each label\n",
    "node_positions = {\n",
    "    'dataset1': [x_positions[0], y_positions1[0]],\n",
    "    'dataset2': [x_positions[0], y_positions1[1]],\n",
    "    'dataset3': [x_positions[0], y_positions1[2]],\n",
    "    'dataset4': [x_positions[0], y_positions1[3]],\n",
    "    'datase1': [x_positions[1], y_positions2[0]],\n",
    "    'datase2': [x_positions[1], y_positions2[1]],\n",
    "    'datase3': [x_positions[1], y_positions2[2]],\n",
    "    'datase4': [x_positions[1], y_positions2[3]],\n",
    "    'datas1': [x_positions[2], y_positions3[0]],\n",
    "    'datas2': [x_positions[2], y_positions3[1]],\n",
    "    'datas3': [x_positions[2], y_positions3[2]],\n",
    "    'datas4': [x_positions[2], y_positions3[3]],\n",
    "    'data1': [x_positions[3], y_positions4[0]],\n",
    "    'data2': [x_positions[3], y_positions4[1]],\n",
    "    'data3': [x_positions[3], y_positions4[2]],\n",
    "    'data4': [x_positions[3], y_positions4[3]]\n",
    "}\n",
    "\n",
    "# Populate the source, target, value lists and assign link colors based on the first dataset in the sequence\n",
    "for i in range(len(df)):\n",
    "    for j in range(len(df.columns) - 1):\n",
    "        source.append(label_indices[df.iloc[i, j]])\n",
    "        target.append(label_indices[df.iloc[i, j + 1]])\n",
    "        value.append(1)\n",
    "        link_colors.append(color_mapping[df.iloc[i, j]])\n",
    "\n",
    "# Prepare the x and y positions for nodes\n",
    "x_coords = []\n",
    "y_coords = []\n",
    "node_colors = []\n",
    "for label in labels:\n",
    "    x, y = node_positions[label]\n",
    "    x_coords.append(x)\n",
    "    y_coords.append(y)\n",
    "    node_colors.append(color_mapping[label])\n",
    "\n",
    "# Create the Sankey diagram\n",
    "fig = go.Figure(data=[go.Sankey(\n",
    "    node=dict(\n",
    "        pad=15,\n",
    "        thickness=20,\n",
    "        line=dict(color=\"black\", width=0.5),\n",
    "        label=['' for _ in labels],  # Empty labels\n",
    "        x=x_coords,\n",
    "        y=y_coords,\n",
    "        color=node_colors\n",
    "    ),\n",
    "    link=dict(\n",
    "        source=source,\n",
    "        target=target,\n",
    "        value=value,\n",
    "        color=link_colors\n",
    "    )\n",
    ")])\n",
    "\n",
    "fig.update_layout(title_text='Dataset Order Sankey Diagram', font_size=10)\n",
    "fig.show()\n"
   ]
  },
  {
   "cell_type": "code",
   "execution_count": 58,
   "metadata": {},
   "outputs": [
    {
     "data": {
      "application/vnd.plotly.v1+json": {
       "config": {
        "plotlyServerURL": "https://plot.ly"
       },
       "data": [
        {
         "link": {
          "color": [
           "rgba(0, 128, 0, 0.6)",
           "rgba(255, 165, 0, 0.6)",
           "rgba(255, 182, 193, 0.6)",
           "rgba(255, 165, 0, 0.6)",
           "rgba(255, 182, 193, 0.6)",
           "rgba(0, 128, 0, 0.6)",
           "rgba(255, 182, 193, 0.6)",
           "rgba(255, 165, 0, 0.6)",
           "rgba(0, 128, 0, 0.6)",
           "rgba(255, 182, 193, 0.6)",
           "rgba(0, 128, 0, 0.6)",
           "rgba(128, 0, 128, 0.6)",
           "rgba(255, 182, 193, 0.6)",
           "rgba(255, 165, 0, 0.6)",
           "rgba(128, 0, 128, 0.6)",
           "rgba(128, 0, 128, 0.6)",
           "rgba(255, 182, 193, 0.6)",
           "rgba(0, 128, 0, 0.6)",
           "rgba(0, 128, 0, 0.6)",
           "rgba(255, 182, 193, 0.6)",
           "rgba(255, 165, 0, 0.6)",
           "rgba(255, 182, 193, 0.6)",
           "rgba(128, 0, 128, 0.6)",
           "rgba(0, 128, 0, 0.6)",
           "rgba(255, 165, 0, 0.6)",
           "rgba(0, 128, 0, 0.6)",
           "rgba(128, 0, 128, 0.6)"
          ],
          "source": [
           0,
           4,
           8,
           1,
           5,
           9,
           2,
           4,
           9,
           2,
           6,
           10,
           2,
           4,
           10,
           3,
           5,
           9,
           0,
           5,
           11,
           2,
           7,
           9,
           1,
           6,
           10
          ],
          "target": [
           4,
           8,
           12,
           5,
           9,
           12,
           4,
           9,
           12,
           6,
           10,
           13,
           4,
           10,
           14,
           5,
           9,
           13,
           5,
           11,
           12,
           7,
           9,
           13,
           6,
           10,
           15
          ],
          "value": [
           1,
           1,
           1,
           1,
           1,
           1,
           1,
           1,
           1,
           1,
           1,
           1,
           1,
           1,
           1,
           1,
           1,
           1,
           1,
           1,
           1,
           1,
           1,
           1,
           1,
           1,
           1
          ]
         },
         "node": {
          "color": [
           "rgba(0, 128, 0, 0.6)",
           "rgba(255, 165, 0, 0.6)",
           "rgba(255, 182, 193, 0.6)",
           "rgba(128, 0, 128, 0.6)",
           "rgba(255, 165, 0, 0.6)",
           "rgba(255, 182, 193, 0.6)",
           "rgba(0, 128, 0, 0.6)",
           "rgba(128, 0, 128, 0.6)",
           "rgba(255, 182, 193, 0.6)",
           "rgba(0, 128, 0, 0.6)",
           "rgba(128, 0, 128, 0.6)",
           "rgba(255, 165, 0, 0.6)",
           "rgba(128, 0, 128, 0.6)",
           "rgba(255, 165, 0, 0.6)",
           "rgba(0, 128, 0, 0.6)",
           "rgba(255, 182, 193, 0.6)"
          ],
          "label": [
           "",
           "",
           "",
           "",
           "",
           "",
           "",
           "",
           "",
           "",
           "",
           "",
           "",
           "",
           "",
           ""
          ],
          "line": {
           "color": "black",
           "width": 0.5
          },
          "pad": 15,
          "thickness": 20,
          "x": [
           0.1,
           0.1,
           0.1,
           0.1,
           0.3,
           0.3,
           0.3,
           0.3,
           0.5,
           0.5,
           0.5,
           0.5,
           0.7,
           0.7,
           0.7,
           0.7
          ],
          "y": [
           0.46153846153846156,
           0.6923076923076923,
           0.15384615384615385,
           0.8846153846153846,
           0.6538461538461539,
           0.11538461538461539,
           0.38461538461538464,
           0.8846153846153846,
           0.038461538461538464,
           0.3076923076923077,
           0.8076923076923077,
           0.5769230769230769,
           0.7692307692307693,
           0.4230769230769231,
           0.19230769230769232,
           0.038461538461538464
          ]
         },
         "type": "sankey"
        }
       ],
       "layout": {
        "font": {
         "size": 10
        },
        "template": {
         "data": {
          "bar": [
           {
            "error_x": {
             "color": "#2a3f5f"
            },
            "error_y": {
             "color": "#2a3f5f"
            },
            "marker": {
             "line": {
              "color": "#E5ECF6",
              "width": 0.5
             },
             "pattern": {
              "fillmode": "overlay",
              "size": 10,
              "solidity": 0.2
             }
            },
            "type": "bar"
           }
          ],
          "barpolar": [
           {
            "marker": {
             "line": {
              "color": "#E5ECF6",
              "width": 0.5
             },
             "pattern": {
              "fillmode": "overlay",
              "size": 10,
              "solidity": 0.2
             }
            },
            "type": "barpolar"
           }
          ],
          "carpet": [
           {
            "aaxis": {
             "endlinecolor": "#2a3f5f",
             "gridcolor": "white",
             "linecolor": "white",
             "minorgridcolor": "white",
             "startlinecolor": "#2a3f5f"
            },
            "baxis": {
             "endlinecolor": "#2a3f5f",
             "gridcolor": "white",
             "linecolor": "white",
             "minorgridcolor": "white",
             "startlinecolor": "#2a3f5f"
            },
            "type": "carpet"
           }
          ],
          "choropleth": [
           {
            "colorbar": {
             "outlinewidth": 0,
             "ticks": ""
            },
            "type": "choropleth"
           }
          ],
          "contour": [
           {
            "colorbar": {
             "outlinewidth": 0,
             "ticks": ""
            },
            "colorscale": [
             [
              0,
              "#0d0887"
             ],
             [
              0.1111111111111111,
              "#46039f"
             ],
             [
              0.2222222222222222,
              "#7201a8"
             ],
             [
              0.3333333333333333,
              "#9c179e"
             ],
             [
              0.4444444444444444,
              "#bd3786"
             ],
             [
              0.5555555555555556,
              "#d8576b"
             ],
             [
              0.6666666666666666,
              "#ed7953"
             ],
             [
              0.7777777777777778,
              "#fb9f3a"
             ],
             [
              0.8888888888888888,
              "#fdca26"
             ],
             [
              1,
              "#f0f921"
             ]
            ],
            "type": "contour"
           }
          ],
          "contourcarpet": [
           {
            "colorbar": {
             "outlinewidth": 0,
             "ticks": ""
            },
            "type": "contourcarpet"
           }
          ],
          "heatmap": [
           {
            "colorbar": {
             "outlinewidth": 0,
             "ticks": ""
            },
            "colorscale": [
             [
              0,
              "#0d0887"
             ],
             [
              0.1111111111111111,
              "#46039f"
             ],
             [
              0.2222222222222222,
              "#7201a8"
             ],
             [
              0.3333333333333333,
              "#9c179e"
             ],
             [
              0.4444444444444444,
              "#bd3786"
             ],
             [
              0.5555555555555556,
              "#d8576b"
             ],
             [
              0.6666666666666666,
              "#ed7953"
             ],
             [
              0.7777777777777778,
              "#fb9f3a"
             ],
             [
              0.8888888888888888,
              "#fdca26"
             ],
             [
              1,
              "#f0f921"
             ]
            ],
            "type": "heatmap"
           }
          ],
          "heatmapgl": [
           {
            "colorbar": {
             "outlinewidth": 0,
             "ticks": ""
            },
            "colorscale": [
             [
              0,
              "#0d0887"
             ],
             [
              0.1111111111111111,
              "#46039f"
             ],
             [
              0.2222222222222222,
              "#7201a8"
             ],
             [
              0.3333333333333333,
              "#9c179e"
             ],
             [
              0.4444444444444444,
              "#bd3786"
             ],
             [
              0.5555555555555556,
              "#d8576b"
             ],
             [
              0.6666666666666666,
              "#ed7953"
             ],
             [
              0.7777777777777778,
              "#fb9f3a"
             ],
             [
              0.8888888888888888,
              "#fdca26"
             ],
             [
              1,
              "#f0f921"
             ]
            ],
            "type": "heatmapgl"
           }
          ],
          "histogram": [
           {
            "marker": {
             "pattern": {
              "fillmode": "overlay",
              "size": 10,
              "solidity": 0.2
             }
            },
            "type": "histogram"
           }
          ],
          "histogram2d": [
           {
            "colorbar": {
             "outlinewidth": 0,
             "ticks": ""
            },
            "colorscale": [
             [
              0,
              "#0d0887"
             ],
             [
              0.1111111111111111,
              "#46039f"
             ],
             [
              0.2222222222222222,
              "#7201a8"
             ],
             [
              0.3333333333333333,
              "#9c179e"
             ],
             [
              0.4444444444444444,
              "#bd3786"
             ],
             [
              0.5555555555555556,
              "#d8576b"
             ],
             [
              0.6666666666666666,
              "#ed7953"
             ],
             [
              0.7777777777777778,
              "#fb9f3a"
             ],
             [
              0.8888888888888888,
              "#fdca26"
             ],
             [
              1,
              "#f0f921"
             ]
            ],
            "type": "histogram2d"
           }
          ],
          "histogram2dcontour": [
           {
            "colorbar": {
             "outlinewidth": 0,
             "ticks": ""
            },
            "colorscale": [
             [
              0,
              "#0d0887"
             ],
             [
              0.1111111111111111,
              "#46039f"
             ],
             [
              0.2222222222222222,
              "#7201a8"
             ],
             [
              0.3333333333333333,
              "#9c179e"
             ],
             [
              0.4444444444444444,
              "#bd3786"
             ],
             [
              0.5555555555555556,
              "#d8576b"
             ],
             [
              0.6666666666666666,
              "#ed7953"
             ],
             [
              0.7777777777777778,
              "#fb9f3a"
             ],
             [
              0.8888888888888888,
              "#fdca26"
             ],
             [
              1,
              "#f0f921"
             ]
            ],
            "type": "histogram2dcontour"
           }
          ],
          "mesh3d": [
           {
            "colorbar": {
             "outlinewidth": 0,
             "ticks": ""
            },
            "type": "mesh3d"
           }
          ],
          "parcoords": [
           {
            "line": {
             "colorbar": {
              "outlinewidth": 0,
              "ticks": ""
             }
            },
            "type": "parcoords"
           }
          ],
          "pie": [
           {
            "automargin": true,
            "type": "pie"
           }
          ],
          "scatter": [
           {
            "fillpattern": {
             "fillmode": "overlay",
             "size": 10,
             "solidity": 0.2
            },
            "type": "scatter"
           }
          ],
          "scatter3d": [
           {
            "line": {
             "colorbar": {
              "outlinewidth": 0,
              "ticks": ""
             }
            },
            "marker": {
             "colorbar": {
              "outlinewidth": 0,
              "ticks": ""
             }
            },
            "type": "scatter3d"
           }
          ],
          "scattercarpet": [
           {
            "marker": {
             "colorbar": {
              "outlinewidth": 0,
              "ticks": ""
             }
            },
            "type": "scattercarpet"
           }
          ],
          "scattergeo": [
           {
            "marker": {
             "colorbar": {
              "outlinewidth": 0,
              "ticks": ""
             }
            },
            "type": "scattergeo"
           }
          ],
          "scattergl": [
           {
            "marker": {
             "colorbar": {
              "outlinewidth": 0,
              "ticks": ""
             }
            },
            "type": "scattergl"
           }
          ],
          "scattermapbox": [
           {
            "marker": {
             "colorbar": {
              "outlinewidth": 0,
              "ticks": ""
             }
            },
            "type": "scattermapbox"
           }
          ],
          "scatterpolar": [
           {
            "marker": {
             "colorbar": {
              "outlinewidth": 0,
              "ticks": ""
             }
            },
            "type": "scatterpolar"
           }
          ],
          "scatterpolargl": [
           {
            "marker": {
             "colorbar": {
              "outlinewidth": 0,
              "ticks": ""
             }
            },
            "type": "scatterpolargl"
           }
          ],
          "scatterternary": [
           {
            "marker": {
             "colorbar": {
              "outlinewidth": 0,
              "ticks": ""
             }
            },
            "type": "scatterternary"
           }
          ],
          "surface": [
           {
            "colorbar": {
             "outlinewidth": 0,
             "ticks": ""
            },
            "colorscale": [
             [
              0,
              "#0d0887"
             ],
             [
              0.1111111111111111,
              "#46039f"
             ],
             [
              0.2222222222222222,
              "#7201a8"
             ],
             [
              0.3333333333333333,
              "#9c179e"
             ],
             [
              0.4444444444444444,
              "#bd3786"
             ],
             [
              0.5555555555555556,
              "#d8576b"
             ],
             [
              0.6666666666666666,
              "#ed7953"
             ],
             [
              0.7777777777777778,
              "#fb9f3a"
             ],
             [
              0.8888888888888888,
              "#fdca26"
             ],
             [
              1,
              "#f0f921"
             ]
            ],
            "type": "surface"
           }
          ],
          "table": [
           {
            "cells": {
             "fill": {
              "color": "#EBF0F8"
             },
             "line": {
              "color": "white"
             }
            },
            "header": {
             "fill": {
              "color": "#C8D4E3"
             },
             "line": {
              "color": "white"
             }
            },
            "type": "table"
           }
          ]
         },
         "layout": {
          "annotationdefaults": {
           "arrowcolor": "#2a3f5f",
           "arrowhead": 0,
           "arrowwidth": 1
          },
          "autotypenumbers": "strict",
          "coloraxis": {
           "colorbar": {
            "outlinewidth": 0,
            "ticks": ""
           }
          },
          "colorscale": {
           "diverging": [
            [
             0,
             "#8e0152"
            ],
            [
             0.1,
             "#c51b7d"
            ],
            [
             0.2,
             "#de77ae"
            ],
            [
             0.3,
             "#f1b6da"
            ],
            [
             0.4,
             "#fde0ef"
            ],
            [
             0.5,
             "#f7f7f7"
            ],
            [
             0.6,
             "#e6f5d0"
            ],
            [
             0.7,
             "#b8e186"
            ],
            [
             0.8,
             "#7fbc41"
            ],
            [
             0.9,
             "#4d9221"
            ],
            [
             1,
             "#276419"
            ]
           ],
           "sequential": [
            [
             0,
             "#0d0887"
            ],
            [
             0.1111111111111111,
             "#46039f"
            ],
            [
             0.2222222222222222,
             "#7201a8"
            ],
            [
             0.3333333333333333,
             "#9c179e"
            ],
            [
             0.4444444444444444,
             "#bd3786"
            ],
            [
             0.5555555555555556,
             "#d8576b"
            ],
            [
             0.6666666666666666,
             "#ed7953"
            ],
            [
             0.7777777777777778,
             "#fb9f3a"
            ],
            [
             0.8888888888888888,
             "#fdca26"
            ],
            [
             1,
             "#f0f921"
            ]
           ],
           "sequentialminus": [
            [
             0,
             "#0d0887"
            ],
            [
             0.1111111111111111,
             "#46039f"
            ],
            [
             0.2222222222222222,
             "#7201a8"
            ],
            [
             0.3333333333333333,
             "#9c179e"
            ],
            [
             0.4444444444444444,
             "#bd3786"
            ],
            [
             0.5555555555555556,
             "#d8576b"
            ],
            [
             0.6666666666666666,
             "#ed7953"
            ],
            [
             0.7777777777777778,
             "#fb9f3a"
            ],
            [
             0.8888888888888888,
             "#fdca26"
            ],
            [
             1,
             "#f0f921"
            ]
           ]
          },
          "colorway": [
           "#636efa",
           "#EF553B",
           "#00cc96",
           "#ab63fa",
           "#FFA15A",
           "#19d3f3",
           "#FF6692",
           "#B6E880",
           "#FF97FF",
           "#FECB52"
          ],
          "font": {
           "color": "#2a3f5f"
          },
          "geo": {
           "bgcolor": "white",
           "lakecolor": "white",
           "landcolor": "#E5ECF6",
           "showlakes": true,
           "showland": true,
           "subunitcolor": "white"
          },
          "hoverlabel": {
           "align": "left"
          },
          "hovermode": "closest",
          "mapbox": {
           "style": "light"
          },
          "paper_bgcolor": "white",
          "plot_bgcolor": "#E5ECF6",
          "polar": {
           "angularaxis": {
            "gridcolor": "white",
            "linecolor": "white",
            "ticks": ""
           },
           "bgcolor": "#E5ECF6",
           "radialaxis": {
            "gridcolor": "white",
            "linecolor": "white",
            "ticks": ""
           }
          },
          "scene": {
           "xaxis": {
            "backgroundcolor": "#E5ECF6",
            "gridcolor": "white",
            "gridwidth": 2,
            "linecolor": "white",
            "showbackground": true,
            "ticks": "",
            "zerolinecolor": "white"
           },
           "yaxis": {
            "backgroundcolor": "#E5ECF6",
            "gridcolor": "white",
            "gridwidth": 2,
            "linecolor": "white",
            "showbackground": true,
            "ticks": "",
            "zerolinecolor": "white"
           },
           "zaxis": {
            "backgroundcolor": "#E5ECF6",
            "gridcolor": "white",
            "gridwidth": 2,
            "linecolor": "white",
            "showbackground": true,
            "ticks": "",
            "zerolinecolor": "white"
           }
          },
          "shapedefaults": {
           "line": {
            "color": "#2a3f5f"
           }
          },
          "ternary": {
           "aaxis": {
            "gridcolor": "white",
            "linecolor": "white",
            "ticks": ""
           },
           "baxis": {
            "gridcolor": "white",
            "linecolor": "white",
            "ticks": ""
           },
           "bgcolor": "#E5ECF6",
           "caxis": {
            "gridcolor": "white",
            "linecolor": "white",
            "ticks": ""
           }
          },
          "title": {
           "x": 0.05
          },
          "xaxis": {
           "automargin": true,
           "gridcolor": "white",
           "linecolor": "white",
           "ticks": "",
           "title": {
            "standoff": 15
           },
           "zerolinecolor": "white",
           "zerolinewidth": 2
          },
          "yaxis": {
           "automargin": true,
           "gridcolor": "white",
           "linecolor": "white",
           "ticks": "",
           "title": {
            "standoff": 15
           },
           "zerolinecolor": "white",
           "zerolinewidth": 2
          }
         }
        },
        "title": {
         "text": "Dataset Order Sankey Diagram"
        }
       }
      }
     },
     "metadata": {},
     "output_type": "display_data"
    }
   ],
   "source": [
    "\n",
    "import pandas as pd\n",
    "import plotly.graph_objects as go\n",
    "\n",
    "# Define the dataset sequences\n",
    "# Data provided\n",
    "data = [\n",
    "    ['dataset2', 'datase3', 'datas1', 'data4'],\n",
    "    ['dataset3', 'datase1', 'datas2', 'data4'],\n",
    "    ['dataset1', 'datase3', 'datas2', 'data4'],\n",
    "    ['dataset1', 'datase2', 'datas4', 'data3'],\n",
    "    ['dataset1', 'datase3', 'datas4', 'data2'],\n",
    "    ['dataset4', 'datase1', 'datas2', 'data3'],\n",
    "    ['dataset2', 'datase1', 'datas3', 'data4'],\n",
    "    ['dataset1', 'datase4', 'datas2', 'data3'],\n",
    "    ['dataset3', 'datase2', 'datas4', 'data1']\n",
    "]\n",
    "\n",
    "# Create a DataFrame\n",
    "df = pd.DataFrame(data, columns=['level_1', 'level_2', 'level_3', 'level_4'])\n",
    "\n",
    "# Generate a list of all unique labels\n",
    "labels = pd.unique(df.values.ravel('K')).tolist()\n",
    "\n",
    "# Create mappings from labels to indices\n",
    "label_indices = {label: i for i, label in enumerate(labels)}\n",
    "\n",
    "# Define colors for each dataset\n",
    "color_mapping = {\n",
    "    'dataset1': 'rgba(255, 182, 193, 0.6)',  # Lightpink\n",
    "    'dataset2': 'rgba(0, 128, 0, 0.6)',      # Green\n",
    "    'dataset3': 'rgba(255, 165, 0, 0.6)',    # Orange\n",
    "    'dataset4': 'rgba(128, 0, 128, 0.6)',    # Purple\n",
    "    'datase1': 'rgba(255, 182, 193, 0.6)',   # Lightpink\n",
    "    'datase2': 'rgba(0, 128, 0, 0.6)',       # Green\n",
    "    'datase3': 'rgba(255, 165, 0, 0.6)',     # Orange\n",
    "    'datase4': 'rgba(128, 0, 128, 0.6)',     # Purple\n",
    "    'datas1': 'rgba(255, 182, 193, 0.6)',    # Lightpink\n",
    "    'datas2': 'rgba(0, 128, 0, 0.6)',        # Green\n",
    "    'datas3': 'rgba(255, 165, 0, 0.6)',      # Orange\n",
    "    'datas4': 'rgba(128, 0, 128, 0.6)',      # Purple\n",
    "    'data1': 'rgba(255, 182, 193, 0.6)',     # Lightpink\n",
    "    'data2': 'rgba(0, 128, 0, 0.6)',         # Green\n",
    "    'data3': 'rgba(255, 165, 0, 0.6)',       # Orange\n",
    "    'data4': 'rgba(128, 0, 128, 0.6)'        # Purple\n",
    "}\n",
    "\n",
    "# Initialize lists for the source, target, values, and colors\n",
    "source = []\n",
    "target = []\n",
    "value = []\n",
    "link_colors = []\n",
    "\n",
    "# Define x and y positions for nodes\n",
    "x_positions = [0.1, 0.3, 0.5, 0.7]\n",
    "y_positions1 = [2/13, 6/13, 9/13, 11.5/13]\n",
    "y_positions2 = [1.5/13, 5/13, 8.5/13, 11.5/13]\n",
    "y_positions3 = [0.5/13, 4/13, 7.5/13, 10.5/13]\n",
    "y_positions4 = [0.5/13, 2.5/13, 5.5/13, 10/13]\n",
    "\n",
    "# Define positions for each label\n",
    "node_positions = {\n",
    "    'dataset1': [x_positions[0], y_positions1[0]],\n",
    "    'dataset2': [x_positions[0], y_positions1[1]],\n",
    "    'dataset3': [x_positions[0], y_positions1[2]],\n",
    "    'dataset4': [x_positions[0], y_positions1[3]],\n",
    "    'datase1': [x_positions[1], y_positions2[0]],\n",
    "    'datase2': [x_positions[1], y_positions2[1]],\n",
    "    'datase3': [x_positions[1], y_positions2[2]],\n",
    "    'datase4': [x_positions[1], y_positions2[3]],\n",
    "    'datas1': [x_positions[2], y_positions3[0]],\n",
    "    'datas2': [x_positions[2], y_positions3[1]],\n",
    "    'datas3': [x_positions[2], y_positions3[2]],\n",
    "    'datas4': [x_positions[2], y_positions3[3]],\n",
    "    'data1': [x_positions[3], y_positions4[0]],\n",
    "    'data2': [x_positions[3], y_positions4[1]],\n",
    "    'data3': [x_positions[3], y_positions4[2]],\n",
    "    'data4': [x_positions[3], y_positions4[3]]\n",
    "}\n",
    "\n",
    "# Populate the source, target, value lists and assign link colors based on the first dataset in the sequence\n",
    "for i in range(len(df)):\n",
    "    for j in range(len(df.columns) - 1):\n",
    "        source.append(label_indices[df.iloc[i, j]])\n",
    "        target.append(label_indices[df.iloc[i, j + 1]])\n",
    "        value.append(1)\n",
    "        link_colors.append(color_mapping[df.iloc[i, j]])\n",
    "\n",
    "# Prepare the x and y positions for nodes\n",
    "x_coords = []\n",
    "y_coords = []\n",
    "node_colors = []\n",
    "for label in labels:\n",
    "    x, y = node_positions[label]\n",
    "    x_coords.append(x)\n",
    "    y_coords.append(y)\n",
    "    node_colors.append(color_mapping[label])\n",
    "\n",
    "# Create the Sankey diagram\n",
    "fig = go.Figure(data=[go.Sankey(\n",
    "    node=dict(\n",
    "        pad=15,\n",
    "        thickness=20,\n",
    "        line=dict(color=\"black\", width=0.5),\n",
    "        label=['' for _ in labels],  # Empty labels\n",
    "        x=x_coords,\n",
    "        y=y_coords,\n",
    "        color=node_colors\n",
    "    ),\n",
    "    link=dict(\n",
    "        source=source,\n",
    "        target=target,\n",
    "        value=value,\n",
    "        color=link_colors\n",
    "    )\n",
    ")])\n",
    "\n",
    "fig.update_layout(title_text='Dataset Order Sankey Diagram', font_size=10)\n",
    "fig.show()"
   ]
  },
  {
   "cell_type": "code",
   "execution_count": 88,
   "metadata": {},
   "outputs": [
    {
     "data": {
      "application/vnd.plotly.v1+json": {
       "config": {
        "plotlyServerURL": "https://plot.ly"
       },
       "data": [
        {
         "link": {
          "color": [
           "rgba(255, 182, 193, 0.6)",
           "rgba(128, 0, 128, 0.6)",
           "rgba(255, 165, 0, 0.6)",
           "rgba(128, 0, 128, 0.6)",
           "rgba(255, 165, 0, 0.6)",
           "rgba(255, 182, 193, 0.6)",
           "rgba(128, 0, 128, 0.6)",
           "rgba(0, 128, 0, 0.6)",
           "rgba(255, 165, 0, 0.6)",
           "rgba(128, 0, 128, 0.6)",
           "rgba(0, 128, 0, 0.6)",
           "rgba(255, 182, 193, 0.6)",
           "rgba(128, 0, 128, 0.6)",
           "rgba(255, 165, 0, 0.6)",
           "rgba(0, 128, 0, 0.6)"
          ],
          "source": [
           0,
           2,
           5,
           1,
           3,
           6,
           1,
           4,
           5,
           1,
           4,
           6,
           1,
           3,
           7
          ],
          "target": [
           2,
           5,
           8,
           3,
           6,
           8,
           4,
           5,
           9,
           4,
           6,
           10,
           3,
           7,
           9
          ],
          "value": [
           1,
           1,
           1,
           1,
           1,
           1,
           1,
           1,
           1,
           1,
           1,
           1,
           1,
           1,
           1
          ]
         },
         "node": {
          "color": [
           "rgba(255, 182, 193, 0.6)",
           "rgba(128, 0, 128, 0.6)",
           "rgba(128, 0, 128, 0.6)",
           "rgba(255, 165, 0, 0.6)",
           "rgba(0, 128, 0, 0.6)",
           "rgba(255, 165, 0, 0.6)",
           "rgba(255, 182, 193, 0.6)",
           "rgba(0, 128, 0, 0.6)",
           "rgba(0, 128, 0, 0.6)",
           "rgba(255, 182, 193, 0.6)",
           "rgba(255, 165, 0, 0.6)"
          ],
          "label": [
           "",
           "",
           "",
           "",
           "",
           "",
           "",
           "",
           "",
           "",
           ""
          ],
          "line": {
           "color": "black",
           "width": 0.5
          },
          "pad": 75,
          "thickness": 20,
          "x": [
           0.1,
           0.1,
           0.3,
           0.3,
           0.3,
           0.5,
           0.5,
           0.5,
           0.7,
           0.7,
           0.7
          ],
          "y": [
           0.1,
           0.9,
           1,
           0.7,
           0.4,
           0.65,
           0.1,
           0.4,
           0.4,
           0.1,
           0.65
          ]
         },
         "type": "sankey"
        }
       ],
       "layout": {
        "font": {
         "size": 10
        },
        "template": {
         "data": {
          "bar": [
           {
            "error_x": {
             "color": "#2a3f5f"
            },
            "error_y": {
             "color": "#2a3f5f"
            },
            "marker": {
             "line": {
              "color": "#E5ECF6",
              "width": 0.5
             },
             "pattern": {
              "fillmode": "overlay",
              "size": 10,
              "solidity": 0.2
             }
            },
            "type": "bar"
           }
          ],
          "barpolar": [
           {
            "marker": {
             "line": {
              "color": "#E5ECF6",
              "width": 0.5
             },
             "pattern": {
              "fillmode": "overlay",
              "size": 10,
              "solidity": 0.2
             }
            },
            "type": "barpolar"
           }
          ],
          "carpet": [
           {
            "aaxis": {
             "endlinecolor": "#2a3f5f",
             "gridcolor": "white",
             "linecolor": "white",
             "minorgridcolor": "white",
             "startlinecolor": "#2a3f5f"
            },
            "baxis": {
             "endlinecolor": "#2a3f5f",
             "gridcolor": "white",
             "linecolor": "white",
             "minorgridcolor": "white",
             "startlinecolor": "#2a3f5f"
            },
            "type": "carpet"
           }
          ],
          "choropleth": [
           {
            "colorbar": {
             "outlinewidth": 0,
             "ticks": ""
            },
            "type": "choropleth"
           }
          ],
          "contour": [
           {
            "colorbar": {
             "outlinewidth": 0,
             "ticks": ""
            },
            "colorscale": [
             [
              0,
              "#0d0887"
             ],
             [
              0.1111111111111111,
              "#46039f"
             ],
             [
              0.2222222222222222,
              "#7201a8"
             ],
             [
              0.3333333333333333,
              "#9c179e"
             ],
             [
              0.4444444444444444,
              "#bd3786"
             ],
             [
              0.5555555555555556,
              "#d8576b"
             ],
             [
              0.6666666666666666,
              "#ed7953"
             ],
             [
              0.7777777777777778,
              "#fb9f3a"
             ],
             [
              0.8888888888888888,
              "#fdca26"
             ],
             [
              1,
              "#f0f921"
             ]
            ],
            "type": "contour"
           }
          ],
          "contourcarpet": [
           {
            "colorbar": {
             "outlinewidth": 0,
             "ticks": ""
            },
            "type": "contourcarpet"
           }
          ],
          "heatmap": [
           {
            "colorbar": {
             "outlinewidth": 0,
             "ticks": ""
            },
            "colorscale": [
             [
              0,
              "#0d0887"
             ],
             [
              0.1111111111111111,
              "#46039f"
             ],
             [
              0.2222222222222222,
              "#7201a8"
             ],
             [
              0.3333333333333333,
              "#9c179e"
             ],
             [
              0.4444444444444444,
              "#bd3786"
             ],
             [
              0.5555555555555556,
              "#d8576b"
             ],
             [
              0.6666666666666666,
              "#ed7953"
             ],
             [
              0.7777777777777778,
              "#fb9f3a"
             ],
             [
              0.8888888888888888,
              "#fdca26"
             ],
             [
              1,
              "#f0f921"
             ]
            ],
            "type": "heatmap"
           }
          ],
          "heatmapgl": [
           {
            "colorbar": {
             "outlinewidth": 0,
             "ticks": ""
            },
            "colorscale": [
             [
              0,
              "#0d0887"
             ],
             [
              0.1111111111111111,
              "#46039f"
             ],
             [
              0.2222222222222222,
              "#7201a8"
             ],
             [
              0.3333333333333333,
              "#9c179e"
             ],
             [
              0.4444444444444444,
              "#bd3786"
             ],
             [
              0.5555555555555556,
              "#d8576b"
             ],
             [
              0.6666666666666666,
              "#ed7953"
             ],
             [
              0.7777777777777778,
              "#fb9f3a"
             ],
             [
              0.8888888888888888,
              "#fdca26"
             ],
             [
              1,
              "#f0f921"
             ]
            ],
            "type": "heatmapgl"
           }
          ],
          "histogram": [
           {
            "marker": {
             "pattern": {
              "fillmode": "overlay",
              "size": 10,
              "solidity": 0.2
             }
            },
            "type": "histogram"
           }
          ],
          "histogram2d": [
           {
            "colorbar": {
             "outlinewidth": 0,
             "ticks": ""
            },
            "colorscale": [
             [
              0,
              "#0d0887"
             ],
             [
              0.1111111111111111,
              "#46039f"
             ],
             [
              0.2222222222222222,
              "#7201a8"
             ],
             [
              0.3333333333333333,
              "#9c179e"
             ],
             [
              0.4444444444444444,
              "#bd3786"
             ],
             [
              0.5555555555555556,
              "#d8576b"
             ],
             [
              0.6666666666666666,
              "#ed7953"
             ],
             [
              0.7777777777777778,
              "#fb9f3a"
             ],
             [
              0.8888888888888888,
              "#fdca26"
             ],
             [
              1,
              "#f0f921"
             ]
            ],
            "type": "histogram2d"
           }
          ],
          "histogram2dcontour": [
           {
            "colorbar": {
             "outlinewidth": 0,
             "ticks": ""
            },
            "colorscale": [
             [
              0,
              "#0d0887"
             ],
             [
              0.1111111111111111,
              "#46039f"
             ],
             [
              0.2222222222222222,
              "#7201a8"
             ],
             [
              0.3333333333333333,
              "#9c179e"
             ],
             [
              0.4444444444444444,
              "#bd3786"
             ],
             [
              0.5555555555555556,
              "#d8576b"
             ],
             [
              0.6666666666666666,
              "#ed7953"
             ],
             [
              0.7777777777777778,
              "#fb9f3a"
             ],
             [
              0.8888888888888888,
              "#fdca26"
             ],
             [
              1,
              "#f0f921"
             ]
            ],
            "type": "histogram2dcontour"
           }
          ],
          "mesh3d": [
           {
            "colorbar": {
             "outlinewidth": 0,
             "ticks": ""
            },
            "type": "mesh3d"
           }
          ],
          "parcoords": [
           {
            "line": {
             "colorbar": {
              "outlinewidth": 0,
              "ticks": ""
             }
            },
            "type": "parcoords"
           }
          ],
          "pie": [
           {
            "automargin": true,
            "type": "pie"
           }
          ],
          "scatter": [
           {
            "fillpattern": {
             "fillmode": "overlay",
             "size": 10,
             "solidity": 0.2
            },
            "type": "scatter"
           }
          ],
          "scatter3d": [
           {
            "line": {
             "colorbar": {
              "outlinewidth": 0,
              "ticks": ""
             }
            },
            "marker": {
             "colorbar": {
              "outlinewidth": 0,
              "ticks": ""
             }
            },
            "type": "scatter3d"
           }
          ],
          "scattercarpet": [
           {
            "marker": {
             "colorbar": {
              "outlinewidth": 0,
              "ticks": ""
             }
            },
            "type": "scattercarpet"
           }
          ],
          "scattergeo": [
           {
            "marker": {
             "colorbar": {
              "outlinewidth": 0,
              "ticks": ""
             }
            },
            "type": "scattergeo"
           }
          ],
          "scattergl": [
           {
            "marker": {
             "colorbar": {
              "outlinewidth": 0,
              "ticks": ""
             }
            },
            "type": "scattergl"
           }
          ],
          "scattermapbox": [
           {
            "marker": {
             "colorbar": {
              "outlinewidth": 0,
              "ticks": ""
             }
            },
            "type": "scattermapbox"
           }
          ],
          "scatterpolar": [
           {
            "marker": {
             "colorbar": {
              "outlinewidth": 0,
              "ticks": ""
             }
            },
            "type": "scatterpolar"
           }
          ],
          "scatterpolargl": [
           {
            "marker": {
             "colorbar": {
              "outlinewidth": 0,
              "ticks": ""
             }
            },
            "type": "scatterpolargl"
           }
          ],
          "scatterternary": [
           {
            "marker": {
             "colorbar": {
              "outlinewidth": 0,
              "ticks": ""
             }
            },
            "type": "scatterternary"
           }
          ],
          "surface": [
           {
            "colorbar": {
             "outlinewidth": 0,
             "ticks": ""
            },
            "colorscale": [
             [
              0,
              "#0d0887"
             ],
             [
              0.1111111111111111,
              "#46039f"
             ],
             [
              0.2222222222222222,
              "#7201a8"
             ],
             [
              0.3333333333333333,
              "#9c179e"
             ],
             [
              0.4444444444444444,
              "#bd3786"
             ],
             [
              0.5555555555555556,
              "#d8576b"
             ],
             [
              0.6666666666666666,
              "#ed7953"
             ],
             [
              0.7777777777777778,
              "#fb9f3a"
             ],
             [
              0.8888888888888888,
              "#fdca26"
             ],
             [
              1,
              "#f0f921"
             ]
            ],
            "type": "surface"
           }
          ],
          "table": [
           {
            "cells": {
             "fill": {
              "color": "#EBF0F8"
             },
             "line": {
              "color": "white"
             }
            },
            "header": {
             "fill": {
              "color": "#C8D4E3"
             },
             "line": {
              "color": "white"
             }
            },
            "type": "table"
           }
          ]
         },
         "layout": {
          "annotationdefaults": {
           "arrowcolor": "#2a3f5f",
           "arrowhead": 0,
           "arrowwidth": 1
          },
          "autotypenumbers": "strict",
          "coloraxis": {
           "colorbar": {
            "outlinewidth": 0,
            "ticks": ""
           }
          },
          "colorscale": {
           "diverging": [
            [
             0,
             "#8e0152"
            ],
            [
             0.1,
             "#c51b7d"
            ],
            [
             0.2,
             "#de77ae"
            ],
            [
             0.3,
             "#f1b6da"
            ],
            [
             0.4,
             "#fde0ef"
            ],
            [
             0.5,
             "#f7f7f7"
            ],
            [
             0.6,
             "#e6f5d0"
            ],
            [
             0.7,
             "#b8e186"
            ],
            [
             0.8,
             "#7fbc41"
            ],
            [
             0.9,
             "#4d9221"
            ],
            [
             1,
             "#276419"
            ]
           ],
           "sequential": [
            [
             0,
             "#0d0887"
            ],
            [
             0.1111111111111111,
             "#46039f"
            ],
            [
             0.2222222222222222,
             "#7201a8"
            ],
            [
             0.3333333333333333,
             "#9c179e"
            ],
            [
             0.4444444444444444,
             "#bd3786"
            ],
            [
             0.5555555555555556,
             "#d8576b"
            ],
            [
             0.6666666666666666,
             "#ed7953"
            ],
            [
             0.7777777777777778,
             "#fb9f3a"
            ],
            [
             0.8888888888888888,
             "#fdca26"
            ],
            [
             1,
             "#f0f921"
            ]
           ],
           "sequentialminus": [
            [
             0,
             "#0d0887"
            ],
            [
             0.1111111111111111,
             "#46039f"
            ],
            [
             0.2222222222222222,
             "#7201a8"
            ],
            [
             0.3333333333333333,
             "#9c179e"
            ],
            [
             0.4444444444444444,
             "#bd3786"
            ],
            [
             0.5555555555555556,
             "#d8576b"
            ],
            [
             0.6666666666666666,
             "#ed7953"
            ],
            [
             0.7777777777777778,
             "#fb9f3a"
            ],
            [
             0.8888888888888888,
             "#fdca26"
            ],
            [
             1,
             "#f0f921"
            ]
           ]
          },
          "colorway": [
           "#636efa",
           "#EF553B",
           "#00cc96",
           "#ab63fa",
           "#FFA15A",
           "#19d3f3",
           "#FF6692",
           "#B6E880",
           "#FF97FF",
           "#FECB52"
          ],
          "font": {
           "color": "#2a3f5f"
          },
          "geo": {
           "bgcolor": "white",
           "lakecolor": "white",
           "landcolor": "#E5ECF6",
           "showlakes": true,
           "showland": true,
           "subunitcolor": "white"
          },
          "hoverlabel": {
           "align": "left"
          },
          "hovermode": "closest",
          "mapbox": {
           "style": "light"
          },
          "paper_bgcolor": "white",
          "plot_bgcolor": "#E5ECF6",
          "polar": {
           "angularaxis": {
            "gridcolor": "white",
            "linecolor": "white",
            "ticks": ""
           },
           "bgcolor": "#E5ECF6",
           "radialaxis": {
            "gridcolor": "white",
            "linecolor": "white",
            "ticks": ""
           }
          },
          "scene": {
           "xaxis": {
            "backgroundcolor": "#E5ECF6",
            "gridcolor": "white",
            "gridwidth": 2,
            "linecolor": "white",
            "showbackground": true,
            "ticks": "",
            "zerolinecolor": "white"
           },
           "yaxis": {
            "backgroundcolor": "#E5ECF6",
            "gridcolor": "white",
            "gridwidth": 2,
            "linecolor": "white",
            "showbackground": true,
            "ticks": "",
            "zerolinecolor": "white"
           },
           "zaxis": {
            "backgroundcolor": "#E5ECF6",
            "gridcolor": "white",
            "gridwidth": 2,
            "linecolor": "white",
            "showbackground": true,
            "ticks": "",
            "zerolinecolor": "white"
           }
          },
          "shapedefaults": {
           "line": {
            "color": "#2a3f5f"
           }
          },
          "ternary": {
           "aaxis": {
            "gridcolor": "white",
            "linecolor": "white",
            "ticks": ""
           },
           "baxis": {
            "gridcolor": "white",
            "linecolor": "white",
            "ticks": ""
           },
           "bgcolor": "#E5ECF6",
           "caxis": {
            "gridcolor": "white",
            "linecolor": "white",
            "ticks": ""
           }
          },
          "title": {
           "x": 0.05
          },
          "xaxis": {
           "automargin": true,
           "gridcolor": "white",
           "linecolor": "white",
           "ticks": "",
           "title": {
            "standoff": 15
           },
           "zerolinecolor": "white",
           "zerolinewidth": 2
          },
          "yaxis": {
           "automargin": true,
           "gridcolor": "white",
           "linecolor": "white",
           "ticks": "",
           "title": {
            "standoff": 15
           },
           "zerolinecolor": "white",
           "zerolinewidth": 2
          }
         }
        },
        "title": {
         "text": "Dataset Order Sankey Diagram"
        }
       }
      }
     },
     "metadata": {},
     "output_type": "display_data"
    }
   ],
   "source": [
    "import pandas as pd\n",
    "import plotly.graph_objects as go\n",
    "\n",
    "# Define the dataset sequences\n",
    "\n",
    "\n",
    "# Data provided\n",
    "data = [\n",
    "    ['dataset1', 'datase4', 'datas3', 'data2'],\n",
    "    ['dataset4', 'datase3', 'datas1', 'data2'],\n",
    "    ['dataset4', 'datase2', 'datas3', 'data1'],\n",
    "    ['dataset4', 'datase2', 'datas1', 'data3'],\n",
    "    ['dataset4', 'datase3', 'datas2', 'data1']\n",
    "]\n",
    "\n",
    "# Create a DataFrame\n",
    "df = pd.DataFrame(data, columns=['level_1', 'level_2', 'level_3', 'level_4'])\n",
    "\n",
    "# Generate a list of all unique labels\n",
    "labels = pd.unique(df.values.ravel('K')).tolist()\n",
    "\n",
    "# Create mappings from labels to indices\n",
    "label_indices = {label: i for i, label in enumerate(labels)}\n",
    "\n",
    "# Define colors for each dataset\n",
    "color_mapping = {\n",
    "    'dataset1': 'rgba(255, 182, 193, 0.6)',  # Lightpink\n",
    "    'dataset2': 'rgba(0, 128, 0, 0.6)',      # Green\n",
    "    'dataset3': 'rgba(255, 165, 0, 0.6)',    # Orange\n",
    "    'dataset4': 'rgba(128, 0, 128, 0.6)',    # Purple\n",
    "    'datase1': 'rgba(255, 182, 193, 0.6)',   # Lightpink\n",
    "    'datase2': 'rgba(0, 128, 0, 0.6)',       # Green\n",
    "    'datase3': 'rgba(255, 165, 0, 0.6)',     # Orange\n",
    "    'datase4': 'rgba(128, 0, 128, 0.6)',     # Purple\n",
    "    'datas1': 'rgba(255, 182, 193, 0.6)',    # Lightpink\n",
    "    'datas2': 'rgba(0, 128, 0, 0.6)',        # Green\n",
    "    'datas3': 'rgba(255, 165, 0, 0.6)',      # Orange\n",
    "    'datas4': 'rgba(128, 0, 128, 0.6)',      # Purple\n",
    "    'data1': 'rgba(255, 182, 193, 0.6)',     # Lightpink\n",
    "    'data2': 'rgba(0, 128, 0, 0.6)',         # Green\n",
    "    'data3': 'rgba(255, 165, 0, 0.6)',       # Orange\n",
    "    'data4': 'rgba(128, 0, 128, 0.6)'        # Purple\n",
    "}\n",
    "\n",
    "# Initialize lists for the source, target, values, and colors\n",
    "source = []\n",
    "target = []\n",
    "value = []\n",
    "link_colors = []\n",
    "\n",
    "# Define x and y positions for nodes\n",
    "x_positions = [0.1, 0.3, 0.5, 0.7]\n",
    "y_positions1 = [1/10, 9/10]\n",
    "y_positions2 = [4/10, 7/10, 10/10]\n",
    "y_positions3 = [1/10, 4/10, 6.5/10]\n",
    "y_positions4 = [1/10, 4/10, 6.5/10]\n",
    "\n",
    "# Define positions for each label\n",
    "node_positions = {\n",
    "    'dataset1': [x_positions[0], y_positions1[0]],\n",
    "    # 'dataset2': [x_positions[0], y_positions1[1]],\n",
    "    # 'dataset3': [x_positions[0], y_positions1[2]],\n",
    "    'dataset4': [x_positions[0], y_positions1[1]],\n",
    "    # 'datase1': [x_positions[1], y_positions2[0]],\n",
    "    'datase2': [x_positions[1], y_positions2[0]],\n",
    "    'datase3': [x_positions[1], y_positions2[1]],\n",
    "    'datase4': [x_positions[1], y_positions2[2]],\n",
    "    'datas1': [x_positions[2], y_positions3[0]],\n",
    "    'datas2': [x_positions[2], y_positions3[1]],\n",
    "    'datas3': [x_positions[2], y_positions3[2]],\n",
    "    # 'datas4': [x_positions[2], y_positions3[3]],\n",
    "    'data1': [x_positions[3], y_positions4[0]],\n",
    "    'data2': [x_positions[3], y_positions4[1]],\n",
    "    'data3': [x_positions[3], y_positions4[2]],\n",
    "    # 'data4': [x_positions[3], y_positions4[3]]\n",
    "}\n",
    "\n",
    "# Populate the source, target, value lists and assign link colors based on the first dataset in the sequence\n",
    "for i in range(len(df)):\n",
    "    for j in range(len(df.columns) - 1):\n",
    "        source.append(label_indices[df.iloc[i, j]])\n",
    "        target.append(label_indices[df.iloc[i, j + 1]])\n",
    "        value.append(1)\n",
    "        link_colors.append(color_mapping[df.iloc[i, j]])\n",
    "\n",
    "# Prepare the x and y positions for nodes\n",
    "x_coords = []\n",
    "y_coords = []\n",
    "node_colors = []\n",
    "for label in labels:\n",
    "    x, y = node_positions[label]\n",
    "    x_coords.append(x)\n",
    "    y_coords.append(y)\n",
    "    node_colors.append(color_mapping[label])\n",
    "\n",
    "# Create the Sankey diagram\n",
    "fig = go.Figure(data=[go.Sankey(\n",
    "    node=dict(\n",
    "        pad=75,\n",
    "        thickness=20,\n",
    "        line=dict(color=\"black\", width=0.5),\n",
    "        label=['' for _ in labels],  # Empty labels\n",
    "        x=x_coords,\n",
    "        y=y_coords,\n",
    "        color=node_colors\n",
    "    ),\n",
    "    link=dict(\n",
    "        source=source,\n",
    "        target=target,\n",
    "        value=value,\n",
    "        color=link_colors\n",
    "    )\n",
    ")])\n",
    "\n",
    "fig.update_layout(title_text='Dataset Order Sankey Diagram', font_size=10)\n",
    "fig.show()"
   ]
  },
  {
   "cell_type": "code",
   "execution_count": 17,
   "metadata": {},
   "outputs": [
    {
     "data": {
      "image/png": "[encoded data removed]",
      "text/plain": [
       "<Figure size 576x576 with 1 Axes>"
      ]
     },
     "metadata": {},
     "output_type": "display_data"
    }
   ],
   "source": [
    "import pandas as pd\n",
    "import matplotlib.pyplot as plt\n",
    "import seaborn as sns\n",
    "\n",
    "# Assuming data is already defined\n",
    "dataset_sequence = []\n",
    "for participant in data:\n",
    "    dataset_sequence.append(participant['metadata']['dataset_sequence'])\n",
    "\n",
    "# Convert to a pandas Series and get value counts\n",
    "dataset_sequence = pd.Series(dataset_sequence).value_counts()\n",
    "\n",
    "# Set the seaborn style\n",
    "sns.set()\n",
    "\n",
    "# Define a custom color palette based on unique counts\n",
    "unique_counts = dataset_sequence.unique()\n",
    "color_palette = sns.color_palette(\"Set2\", len(unique_counts))\n",
    "color_mapping = {count: color_palette[i] for i, count in enumerate(unique_counts)}\n",
    "\n",
    "# Map colors to the dataset_sequence counts\n",
    "colors = dataset_sequence.map(color_mapping)\n",
    "\n",
    "# Create the pie plot using matplotlib\n",
    "fig, ax = plt.subplots(figsize=(8, 8))\n",
    "\n",
    "def autopct_generator(data):\n",
    "    def inner_autopct(pct):\n",
    "        total = sum(data)\n",
    "        val = int(round(pct*total/100.0))\n",
    "        return '{p:.2f}%'.format(p=pct) if val in unique_counts else ''\n",
    "    return inner_autopct\n",
    "\n",
    "# Create the pie plot\n",
    "wedges, texts, autotexts = ax.pie(\n",
    "    dataset_sequence, \n",
    "    colors=colors, \n",
    "    wedgeprops={'linewidth': 3},  # Increase the wedge border size\n",
    "    autopct=autopct_generator(dataset_sequence)\n",
    ")\n",
    "\n",
    "plt.setp(autotexts, size=10, weight=\"bold\")\n",
    "\n",
    "plt.title('Dataset order', fontsize=30)\n",
    "\n",
    "# Make the circle smaller to create a donut plot\n",
    "centre_circle = plt.Circle((0, 0), 0.70, fc='white')\n",
    "fig.gca().add_artist(centre_circle)\n",
    "\n",
    "# Export to PNG file if needed\n",
    "# plt.savefig('dataset_order.png')\n",
    "\n",
    "# Display the plot\n",
    "plt.show()\n"
   ]
  },
  {
   "cell_type": "code",
   "execution_count": 11,
   "metadata": {},
   "outputs": [
    {
     "data": {
      "image/png": "[encoded data removed]",
      "text/plain": [
       "<Figure size 576x576 with 1 Axes>"
      ]
     },
     "metadata": {},
     "output_type": "display_data"
    }
   ],
   "source": [
    "import matplotlib.pyplot as plt\n",
    "import seaborn as sns\n",
    "\n",
    "# Assuming df is already defined\n",
    "experience = df['experience'].value_counts()\n",
    "\n",
    "# Custom function to format percentages\n",
    "def autopct_format(pct):\n",
    "    return f'{pct:.1f}%'\n",
    "\n",
    "# Set the seaborn style\n",
    "sns.set()\n",
    "\n",
    "# Create the pie plot using matplotlib\n",
    "plt.figure(figsize=(8, 8))\n",
    "wedges, texts, autotexts = plt.pie(\n",
    "    experience, \n",
    "    labels=experience.index, \n",
    "    autopct=autopct_format, \n",
    "    colors=sns.color_palette(\"Set2\"), \n",
    "    textprops={'fontsize': 20},  # Adjust the label text size\n",
    "    wedgeprops={'linewidth': 3},  # Increase the wedge border size\n",
    "    startangle=45  # Rotate the pie chart by 45 degrees if needed\n",
    ")\n",
    "\n",
    "plt.title('Experience', fontsize=30)\n",
    "\n",
    "# Adjust the position of the percentage text slightly inward\n",
    "for autotext in autotexts:\n",
    "    autotext.set_position((autotext.get_position()[0]*0.8, autotext.get_position()[1]*0.9))\n",
    "\n",
    "# Make the circle smaller to create a donut plot\n",
    "plt.gcf().gca().add_artist(plt.Circle((0, 0), 0.70, fc='white'))\n",
    "\n",
    "# Save the plot before displaying it\n",
    "#plt.savefig('experience.png')\n",
    "\n",
    "# Display the plot\n",
    "plt.show()\n"
   ]
  },
  {
   "cell_type": "code",
   "execution_count": 12,
   "metadata": {},
   "outputs": [
    {
     "data": {
      "image/png": "[encoded data removed]",
      "text/plain": [
       "<Figure size 576x576 with 1 Axes>"
      ]
     },
     "metadata": {},
     "output_type": "display_data"
    }
   ],
   "source": [
    "import matplotlib.pyplot as plt\n",
    "import seaborn as sns\n",
    "\n",
    "# Assuming df is already defined\n",
    "age = df['age'].value_counts()\n",
    "\n",
    "# Set the seaborn style\n",
    "sns.set()\n",
    "\n",
    "# Custom function to format percentages\n",
    "def autopct_format(pct):\n",
    "    return f'{pct:.1f}%'\n",
    "\n",
    "# Create the pie plot using matplotlib\n",
    "plt.figure(figsize=(8, 8))\n",
    "wedges, texts, autotexts = plt.pie(\n",
    "    age, \n",
    "    labels=age.index, \n",
    "    autopct=autopct_format, \n",
    "    colors=sns.color_palette(\"Set2\"), \n",
    "    textprops={'fontsize': 20},  # Adjust the label text size\n",
    "    wedgeprops={'linewidth': 3}  # Increase the wedge border size\n",
    ")\n",
    "plt.title('Age', fontsize=30)\n",
    "\n",
    "# Adjust the position of the percentage text slightly inward\n",
    "for autotext in autotexts:\n",
    "    autotext.set_position((autotext.get_position()[0]*0.8, autotext.get_position()[1]*0.9))\n",
    "\n",
    "# Make the circle smaller to create a donut plot\n",
    "plt.gcf().gca().add_artist(plt.Circle((0, 0), 0.70, fc='white'))\n",
    "\n",
    "# Save the plot before displaying it\n",
    "#plt.savefig('age.png')\n",
    "\n",
    "# Display the plot\n",
    "plt.show()\n"
   ]
  },
  {
   "cell_type": "code",
   "execution_count": null,
   "metadata": {},
   "outputs": [],
   "source": []
  }
 ],
 "metadata": {
  "kernelspec": {
   "display_name": "Python 3",
   "language": "python",
   "name": "python3"
  },
  "language_info": {
   "codemirror_mode": {
    "name": "ipython",
    "version": 3
   },
   "file_extension": ".py",
   "mimetype": "text/x-python",
   "name": "python",
   "nbconvert_exporter": "python",
   "pygments_lexer": "ipython3",
   "version": "3.9.13"
  }
 },
 "nbformat": 4,
 "nbformat_minor": 2
}
