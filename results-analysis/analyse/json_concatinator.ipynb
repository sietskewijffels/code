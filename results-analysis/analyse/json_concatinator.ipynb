{
 "cells": [
  {
   "cell_type": "code",
   "execution_count": 1,
   "metadata": {},
   "outputs": [
    {
     "name": "stdout",
     "output_type": "stream",
     "text": [
      "Concatenated JSON file created successfully.\n"
     ]
    }
   ],
   "source": [
    "import os\n",
    "import json\n",
    "\n",
    "# Path to the folder containing the JSON files\n",
    "folder_path = \"data\"\n",
    "\n",
    "# Initialize an empty list to hold participant data\n",
    "participants_data = []\n",
    "\n",
    "# Iterate through files in the folder\n",
    "for filename in os.listdir(folder_path):\n",
    "    if filename.endswith(\".json\"):\n",
    "        file_path = os.path.join(folder_path, filename)\n",
    "        with open(file_path, 'r') as file:\n",
    "            # Load JSON data from the file\n",
    "            data = json.load(file)\n",
    "            # Add participant data to the list\n",
    "            participants_data.append(data)\n",
    "\n",
    "# Create a dictionary with the 'participants' key\n",
    "concatenated_data = {\"participants\": participants_data}\n",
    "\n",
    "# Path to the output file where the concatenated JSON will be stored\n",
    "output_file = \"merged_participant_data.json\"\n",
    "\n",
    "# Write the concatenated JSON data into the output file\n",
    "with open(output_file, 'w') as outfile:\n",
    "    json.dump(concatenated_data, outfile, indent=4)\n",
    "\n",
    "print(\"Concatenated JSON file created successfully.\")\n"
   ]
  },
  {
   "cell_type": "code",
   "execution_count": null,
   "metadata": {},
   "outputs": [],
   "source": []
  }
 ],
 "metadata": {
  "kernelspec": {
   "display_name": "Python 3",
   "language": "python",
   "name": "python3"
  },
  "language_info": {
   "codemirror_mode": {
    "name": "ipython",
    "version": 3
   },
   "file_extension": ".py",
   "mimetype": "text/x-python",
   "name": "python",
   "nbconvert_exporter": "python",
   "pygments_lexer": "ipython3",
   "version": "3.9.13"
  }
 },
 "nbformat": 4,
 "nbformat_minor": 2
}
